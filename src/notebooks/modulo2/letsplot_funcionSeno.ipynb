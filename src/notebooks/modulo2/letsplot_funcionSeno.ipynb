{
 "cells": [
  {
   "cell_type": "code",
   "execution_count": 1,
   "id": "09fe6728",
   "metadata": {},
   "outputs": [
    {
     "data": {
      "text/html": [
       "   <div id=\"gwFhzT\"></div>\n",
       "   <script type=\"text/javascript\" data-lets-plot-script=\"library\">\n",
       "       if(!window.letsPlotCallQueue) {\n",
       "           window.letsPlotCallQueue = [];\n",
       "       }; \n",
       "       window.letsPlotCall = function(f) {\n",
       "           window.letsPlotCallQueue.push(f);\n",
       "       };\n",
       "       (function() {\n",
       "           var script = document.createElement(\"script\");\n",
       "           script.type = \"text/javascript\";\n",
       "           script.src = \"https://cdn.jsdelivr.net/gh/JetBrains/lets-plot@v3.2.0/js-package/distr/lets-plot.min.js\";\n",
       "           script.onload = function() {\n",
       "               window.letsPlotCall = function(f) {f();};\n",
       "               window.letsPlotCallQueue.forEach(function(f) {f();});\n",
       "               window.letsPlotCallQueue = [];\n",
       "               \n",
       "               \n",
       "           };\n",
       "           script.onerror = function(event) {\n",
       "               window.letsPlotCall = function(f) {};\n",
       "               window.letsPlotCallQueue = [];\n",
       "               var div = document.createElement(\"div\");\n",
       "               div.style.color = 'darkred';\n",
       "               div.textContent = 'Error loading Lets-Plot JS';\n",
       "               document.getElementById(\"gwFhzT\").appendChild(div);\n",
       "           };\n",
       "           var e = document.getElementById(\"gwFhzT\");\n",
       "           e.appendChild(script);\n",
       "       })();\n",
       "   </script>"
      ]
     },
     "metadata": {},
     "output_type": "display_data"
    }
   ],
   "source": [
    "// Importar el paquete lets-plot-kotlin\n",
    "%use lets-plot"
   ]
  },
  {
   "cell_type": "code",
   "execution_count": 2,
   "id": "f30b7a1e",
   "metadata": {},
   "outputs": [],
   "source": [
    "// Definir la función seno\n",
    "fun seno(x: Double): Double {\n",
    "    return sin(x)\n",
    "}"
   ]
  },
  {
   "cell_type": "code",
   "execution_count": 3,
   "id": "038faa62",
   "metadata": {},
   "outputs": [
    {
     "name": "stdout",
     "output_type": "stream",
     "text": [
      "datos para el eje x\n",
      "[-6.283185307179586, -5.969026041820607, -5.654866776461628, -5.340707511102648, -5.026548245743669, -4.71238898038469, -4.39822971502571, -4.084070449666731, -3.7699111843077517, -3.455751918948772, -3.141592653589793, -2.827433388230814, -2.5132741228718345, -2.199114857512855, -1.8849555921538759, -1.5707963267948966, -1.2566370614359172, -0.9424777960769379, -0.6283185307179586, -0.3141592653589793, 0.0, 0.3141592653589793, 0.6283185307179586, 0.9424777960769379, 1.2566370614359172, 1.5707963267948966, 1.8849555921538759, 2.199114857512855, 2.5132741228718345, 2.827433388230814, 3.141592653589793, 3.455751918948772, 3.7699111843077517, 4.084070449666731, 4.39822971502571, 4.71238898038469, 5.026548245743669, 5.340707511102648, 5.654866776461628, 5.969026041820607, 6.283185307179586]\n",
      "\n",
      "datos para el eje y\n",
      "[2.4492935982947064E-16, 0.3090169943749476, 0.5877852522924734, 0.8090169943749476, 0.9510565162951536, 1.0, 0.9510565162951535, 0.8090169943749473, 0.587785252292473, 0.3090169943749469, -1.2246467991473532E-16, -0.3090169943749475, -0.5877852522924732, -0.8090169943749475, -0.9510565162951536, -1.0, -0.9510565162951535, -0.8090169943749475, -0.5877852522924731, -0.3090169943749474, 0.0, 0.3090169943749474, 0.5877852522924731, 0.8090169943749475, 0.9510565162951535, 1.0, 0.9510565162951536, 0.8090169943749475, 0.5877852522924732, 0.3090169943749475, 1.2246467991473532E-16, -0.3090169943749469, -0.587785252292473, -0.8090169943749473, -0.9510565162951535, -1.0, -0.9510565162951536, -0.8090169943749476, -0.5877852522924734, -0.3090169943749476, -2.4492935982947064E-16]\n"
     ]
    }
   ],
   "source": [
    "// Crear el conjunto de datos\n",
    "val datos = mapOf(\n",
    " \"x\" to (-20..20).map { it.toDouble() * PI / 10 }, // valores del ángulo entre -2π y 2π radianes\n",
    " \"y\" to (-20..20).map { seno(it.toDouble() * PI / 10) } // valores del seno correspondiente\n",
    ")\n",
    "\n",
    "// visualizamos los datos para \"x\"\n",
    "println( \"datos para el eje x\" )\n",
    "println( datos.get(\"x\") )\n",
    "println()\n",
    "// visualizamos los datos para \"y\"\n",
    "println( \"datos para el eje y\" )\n",
    "println( datos.get(\"y\") )\n"
   ]
  },
  {
   "cell_type": "code",
   "execution_count": 4,
   "id": "7829d5c6",
   "metadata": {},
   "outputs": [],
   "source": [
    "// Crear la capa\n",
    "val capa  = geomLine {\n",
    "    // Mapear los datos a los ejes\n",
    "    x = \"x\"\n",
    "    y = \"y\"\n",
    "}\n",
    "\n"
   ]
  },
  {
   "cell_type": "code",
   "execution_count": 5,
   "id": "f2c1934f",
   "metadata": {},
   "outputs": [
    {
     "data": {
      "text/html": [
       "   <div id=\"8Vv5MZ\"></div>\n",
       "   <script type=\"text/javascript\" data-lets-plot-script=\"plot\">\n",
       "       (function() {\n",
       "           var plotSpec={\n",
       "\"mapping\":{\n",
       "},\n",
       "\"data\":{\n",
       "\"x\":[-6.283185307179586,-5.969026041820607,-5.654866776461628,-5.340707511102648,-5.026548245743669,-4.71238898038469,-4.39822971502571,-4.084070449666731,-3.7699111843077517,-3.455751918948772,-3.141592653589793,-2.827433388230814,-2.5132741228718345,-2.199114857512855,-1.8849555921538759,-1.5707963267948966,-1.2566370614359172,-0.9424777960769379,-0.6283185307179586,-0.3141592653589793,0.0,0.3141592653589793,0.6283185307179586,0.9424777960769379,1.2566370614359172,1.5707963267948966,1.8849555921538759,2.199114857512855,2.5132741228718345,2.827433388230814,3.141592653589793,3.455751918948772,3.7699111843077517,4.084070449666731,4.39822971502571,4.71238898038469,5.026548245743669,5.340707511102648,5.654866776461628,5.969026041820607,6.283185307179586],\n",
       "\"y\":[2.4492935982947064E-16,0.3090169943749476,0.5877852522924734,0.8090169943749476,0.9510565162951536,1.0,0.9510565162951535,0.8090169943749473,0.587785252292473,0.3090169943749469,-1.2246467991473532E-16,-0.3090169943749475,-0.5877852522924732,-0.8090169943749475,-0.9510565162951536,-1.0,-0.9510565162951535,-0.8090169943749475,-0.5877852522924731,-0.3090169943749474,0.0,0.3090169943749474,0.5877852522924731,0.8090169943749475,0.9510565162951535,1.0,0.9510565162951536,0.8090169943749475,0.5877852522924732,0.3090169943749475,1.2246467991473532E-16,-0.3090169943749469,-0.587785252292473,-0.8090169943749473,-0.9510565162951535,-1.0,-0.9510565162951536,-0.8090169943749476,-0.5877852522924734,-0.3090169943749476,-2.4492935982947064E-16]\n",
       "},\n",
       "\"kind\":\"plot\",\n",
       "\"scales\":[],\n",
       "\"layers\":[{\n",
       "\"mapping\":{\n",
       "\"x\":\"x\",\n",
       "\"y\":\"y\"\n",
       "},\n",
       "\"stat\":\"identity\",\n",
       "\"position\":\"identity\",\n",
       "\"geom\":\"line\",\n",
       "\"data\":{\n",
       "}\n",
       "}]\n",
       "};\n",
       "           var plotContainer = document.getElementById(\"8Vv5MZ\");\n",
       "           window.letsPlotCall(function() {{\n",
       "               LetsPlot.buildPlotFromProcessedSpecs(plotSpec, -1, -1, plotContainer);\n",
       "           }});\n",
       "       })();    \n",
       "   </script>"
      ]
     },
     "metadata": {},
     "output_type": "display_data"
    }
   ],
   "source": [
    "// Crear el gráfico\n",
    "val grafico = ggplot(datos) + capa\n",
    "\n",
    "// Mostrar el gráfico\n",
    "grafico.show()\n"
   ]
  },
  {
   "cell_type": "code",
   "execution_count": null,
   "id": "351e854c",
   "metadata": {},
   "outputs": [],
   "source": []
  }
 ],
 "metadata": {
  "kernelspec": {
   "display_name": "Kotlin",
   "language": "kotlin",
   "name": "kotlin"
  },
  "language_info": {
   "codemirror_mode": "text/x-kotlin",
   "file_extension": ".kt",
   "mimetype": "text/x-kotlin",
   "name": "kotlin",
   "nbconvert_exporter": "",
   "pygments_lexer": "kotlin",
   "version": "1.8.20"
  }
 },
 "nbformat": 4,
 "nbformat_minor": 5
}
