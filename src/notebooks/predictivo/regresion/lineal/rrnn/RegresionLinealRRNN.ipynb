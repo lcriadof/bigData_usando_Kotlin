{
 "cells": [
  {
   "cell_type": "code",
   "execution_count": 1,
   "metadata": {
    "datalore": {
     "hide_input_from_viewers": true,
     "hide_output_from_viewers": true,
     "node_id": "ExQHHkOfafWYlzxH4YR063",
     "type": "CODE"
    },
    "ExecuteTime": {
     "end_time": "2023-08-06T15:02:16.502149Z",
     "start_time": "2023-08-06T15:01:35.435523700Z"
    }
   },
   "outputs": [],
   "source": [
    "%use kotlin-dl"
   ]
  },
  {
   "cell_type": "code",
   "execution_count": 2,
   "metadata": {
    "datalore": {
     "hide_input_from_viewers": true,
     "hide_output_from_viewers": true,
     "node_id": "64mkKA1tCROQ4k3dsxBNHA",
     "type": "CODE"
    },
    "ExecuteTime": {
     "end_time": "2023-08-06T15:02:16.683145700Z",
     "start_time": "2023-08-06T15:02:16.497148800Z"
    }
   },
   "outputs": [],
   "source": [
    "import org.jetbrains.kotlinx.dl.api.core.GraphTrainableModel\n",
    "import org.jetbrains.kotlinx.dl.api.core.Sequential\n",
    "import org.jetbrains.kotlinx.dl.api.core.layer.core.Dense\n",
    "import org.jetbrains.kotlinx.dl.api.core.layer.core.Input\n",
    "import org.jetbrains.kotlinx.dl.api.core.loss.Losses\n",
    "import org.jetbrains.kotlinx.dl.api.core.metric.Metrics\n",
    "import org.jetbrains.kotlinx.dl.api.core.optimizer.SGD\n",
    "import org.jetbrains.kotlinx.dl.dataset.OnHeapDataset"
   ]
  },
  {
   "cell_type": "code",
   "execution_count": 3,
   "metadata": {
    "datalore": {
     "hide_input_from_viewers": true,
     "hide_output_from_viewers": true,
     "node_id": "WuykewSPP9h6CzeugRx9uA",
     "type": "CODE"
    },
    "ExecuteTime": {
     "end_time": "2023-08-06T15:02:16.937146200Z",
     "start_time": "2023-08-06T15:02:16.681146500Z"
    }
   },
   "outputs": [],
   "source": [
    "// Crear datos sintéticos para la regresión lineal\n",
    "// y = 2 * x + 0.5 + ruido\n",
    "val x = (1..100).map { it / 100.0 }.toDoubleArray()\n",
    "val y = x.map { 2 * it + 0.5 + Math.random() / 10 }.toDoubleArray()"
   ]
  },
  {
   "cell_type": "code",
   "execution_count": 4,
   "metadata": {
    "datalore": {
     "hide_input_from_viewers": true,
     "hide_output_from_viewers": true,
     "node_id": "jcswblTO8t7h8VODx4Es7c",
     "type": "CODE"
    },
    "ExecuteTime": {
     "end_time": "2023-08-06T15:02:22.963037900Z",
     "start_time": "2023-08-06T15:02:22.126035Z"
    }
   },
   "outputs": [],
   "source": [
    "// Crear un modelo secuencial con una capa densa de una neurona\n",
    "val model = Sequential.of(\n",
    "    Input(1),\n",
    "    Dense(1)\n",
    ")"
   ]
  },
  {
   "cell_type": "code",
   "execution_count": 5,
   "metadata": {
    "datalore": {
     "hide_input_from_viewers": true,
     "hide_output_from_viewers": true,
     "node_id": "Ex9knZeq7ZYTm8WHO9Ixb1",
     "type": "CODE"
    },
    "ExecuteTime": {
     "end_time": "2023-08-06T15:02:29.416456500Z",
     "start_time": "2023-08-06T15:02:29.332460100Z"
    }
   },
   "outputs": [],
   "source": [
    "// Compilar el modelo con una función de pérdida de error cuadrático medio\n",
    "// y un optimizador de descenso de gradiente estocástico\n",
    "model.compile(\n",
    "    optimizer = SGD(),\n",
    "    loss = Losses.MSE,\n",
    "    metric = Metrics.MSE // Calcular el R-cuadrado como métrica\n",
    ")"
   ]
  },
  {
   "cell_type": "code",
   "execution_count": 6,
   "metadata": {
    "datalore": {
     "hide_input_from_viewers": true,
     "hide_output_from_viewers": true,
     "node_id": "kpZlpciMvREL9Go8CV4F9t",
     "type": "CODE"
    },
    "ExecuteTime": {
     "end_time": "2023-08-06T15:02:35.039318400Z",
     "start_time": "2023-08-06T15:02:34.870744200Z"
    }
   },
   "outputs": [],
   "source": [
    "// Crear un conjunto de datos en memoria con los datos de entrada y salida\n",
    "val xFloat = x.map { it.toFloat() }.toFloatArray()\n",
    "val yFloat = y.map { it.toFloat() }.toFloatArray()\n",
    "val features = xFloat.map { floatArrayOf(it) }.toTypedArray()\n",
    "val dataset = OnHeapDataset.create(features, yFloat)"
   ]
  },
  {
   "cell_type": "code",
   "execution_count": 7,
   "metadata": {
    "datalore": {
     "hide_input_from_viewers": true,
     "hide_output_from_viewers": true,
     "node_id": "elNc8IDrDo0kj51lmUAa4J",
     "type": "CODE"
    },
    "ExecuteTime": {
     "end_time": "2023-08-06T15:02:47.276620400Z",
     "start_time": "2023-08-06T15:02:47.085396700Z"
    }
   },
   "outputs": [
    {
     "data": {
      "text/plain": "org.jetbrains.kotlinx.dl.api.core.history.TrainingHistory@1be2c0c6"
     },
     "execution_count": 7,
     "metadata": {},
     "output_type": "execute_result"
    }
   ],
   "source": [
    "// Entrenar el modelo durante 100 épocas con un tamaño de lote de 10\n",
    "model.fit(dataset, epochs = 100, batchSize = 10)"
   ]
  },
  {
   "cell_type": "code",
   "execution_count": 8,
   "metadata": {
    "datalore": {
     "hide_input_from_viewers": true,
     "hide_output_from_viewers": true,
     "node_id": "SO6BOKmkONy60QjwLZZuQH",
     "type": "CODE"
    },
    "ExecuteTime": {
     "end_time": "2023-08-06T15:03:44.633789400Z",
     "start_time": "2023-08-06T15:03:44.422789600Z"
    }
   },
   "outputs": [
    {
     "name": "stdout",
     "output_type": "stream",
     "text": [
      "Weights: {dense_2_dense_kernel=[[F@38c260d2, dense_2_dense_bias=[Ljava.lang.Float;@703d4fc1}\r\n",
      "m: 1.9796296\r\n",
      "b: 0.5614605\r\n"
     ]
    }
   ],
   "source": [
    "/*\n",
    " [m] es el valor del único peso dense_2_dense_kernel y [b] es el valor del único sesgo dense_2_dense_bias.\n",
    "*/\n",
    "\n",
    "println(\"Weights: ${model.layers[1].weights}\")\n",
    "\n",
    "val dense2DenseKernel = model.layers[1].weights[\"dense_2_dense_kernel\"] as Array<FloatArray>\n",
    "val m = dense2DenseKernel[0][0]\n",
    "println(\"m: $m\")\n",
    "\n",
    "\n",
    "val dense2DenseBias = model.layers[1].weights[\"dense_2_dense_bias\"] as Array<Float>\n",
    "val b = dense2DenseBias[0]\n",
    "println(\"b: $b\")\n"
   ]
  },
  {
   "cell_type": "code",
   "execution_count": 11,
   "metadata": {
    "ExecuteTime": {
     "end_time": "2023-08-06T15:05:02.343420400Z",
     "start_time": "2023-08-06T15:05:02.294405600Z"
    }
   },
   "outputs": [
    {
     "name": "stdout",
     "output_type": "stream",
     "text": [
      "El modelo de regresión lineal resultante es ->   Y = 1.9796296*X + 0.5614605\r\n"
     ]
    }
   ],
   "source": [
    "println(\"El modelo de regresión lineal resultante es ->   Y = \"+m+\"*X + \"+ b)\n"
   ]
  },
  {
   "cell_type": "code",
   "execution_count": null,
   "metadata": {},
   "outputs": [],
   "source": []
  }
 ],
 "metadata": {
  "datalore": {
   "base_environment": "default",
   "computation_mode": "JUPYTER",
   "package_manager": "pip",
   "packages": [],
   "report_row_ids": [],
   "version": 3
  },
  "kernelspec": {
   "display_name": "Kotlin",
   "language": "kotlin",
   "name": "kotlin"
  },
  "language_info": {
   "codemirror_mode": "text/x-kotlin",
   "file_extension": ".kt",
   "mimetype": "text/x-kotlin",
   "name": "kotlin",
   "nbconvert_exporter": "",
   "pygments_lexer": "kotlin",
   "version": "1.8.20"
  }
 },
 "nbformat": 4,
 "nbformat_minor": 4
}
