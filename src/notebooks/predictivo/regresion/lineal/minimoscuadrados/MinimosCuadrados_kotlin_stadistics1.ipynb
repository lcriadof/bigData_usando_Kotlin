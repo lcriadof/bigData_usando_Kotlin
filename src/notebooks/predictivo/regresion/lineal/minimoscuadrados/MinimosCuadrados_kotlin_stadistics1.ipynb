{
 "cells": [
  {
   "cell_type": "code",
   "execution_count": 2,
   "metadata": {
    "collapsed": true,
    "ExecuteTime": {
     "end_time": "2023-08-08T21:03:04.820405400Z",
     "start_time": "2023-08-08T21:03:04.618408900Z"
    }
   },
   "outputs": [],
   "source": [
    "@file:Repository(\"https://repo1.maven.org/maven2\")\n",
    "@file:DependsOn(\"org.nield:kotlin-statistics:1.2.1\")"
   ]
  },
  {
   "cell_type": "code",
   "execution_count": 3,
   "outputs": [],
   "source": [
    "import org.nield.kotlinstatistics.*"
   ],
   "metadata": {
    "collapsed": false,
    "ExecuteTime": {
     "end_time": "2023-08-08T21:03:13.537303100Z",
     "start_time": "2023-08-08T21:03:13.502302300Z"
    }
   }
  },
  {
   "cell_type": "code",
   "execution_count": 4,
   "outputs": [
    {
     "name": "stdout",
     "output_type": "stream",
     "text": [
      "3.5"
     ]
    }
   ],
   "source": [
    "\n",
    "// calculamos la pendiente\n",
    "print(sequenceOf(\n",
    "    1.0 to 2.0,\n",
    "2.0 to 6.0,\n",
    "3.0 to 9.0\n",
    ").simpleRegression().slope)"
   ],
   "metadata": {
    "collapsed": false,
    "ExecuteTime": {
     "end_time": "2023-08-08T21:03:24.414742900Z",
     "start_time": "2023-08-08T21:03:24.256740500Z"
    }
   }
  },
  {
   "cell_type": "code",
   "execution_count": 5,
   "outputs": [
    {
     "name": "stdout",
     "output_type": "stream",
     "text": [
      "-1.3333333333333333"
     ]
    }
   ],
   "source": [
    "// calculamos el término independiente\n",
    "print(sequenceOf( 1.0 to 2.0, 2.0 to 6.0, 3.0 to 9.0 ).simpleRegression().intercept)"
   ],
   "metadata": {
    "collapsed": false,
    "ExecuteTime": {
     "end_time": "2023-08-08T21:03:34.453928800Z",
     "start_time": "2023-08-08T21:03:34.378925100Z"
    }
   }
  },
  {
   "cell_type": "code",
   "execution_count": 6,
   "outputs": [
    {
     "name": "stdout",
     "output_type": "stream",
     "text": [
      "Pendiente (slope): 3.5\r\n",
      "Intercepto (intercept): -1.3333333333333333\r\n"
     ]
    }
   ],
   "source": [
    "val regressionResult = sequenceOf(\n",
    "    1.0 to 2.0, // x = 1.0, y = 2.0\n",
    "2.0 to 6.0, // x = 2.0, y = 6.0\n",
    "3.0 to 9.0  // x = 3.0, y = 9.0\n",
    ").simpleRegression()\n",
    "\n",
    "val slope = regressionResult.slope\n",
    "val intercept = regressionResult.intercept\n",
    "\n",
    "println(\"Pendiente (slope): $slope\")\n",
    "println(\"Intercepto (intercept): $intercept\")"
   ],
   "metadata": {
    "collapsed": false,
    "ExecuteTime": {
     "end_time": "2023-08-08T21:03:44.084307800Z",
     "start_time": "2023-08-08T21:03:43.957315Z"
    }
   }
  },
  {
   "cell_type": "code",
   "execution_count": null,
   "outputs": [],
   "source": [],
   "metadata": {
    "collapsed": false
   }
  }
 ],
 "metadata": {
  "kernelspec": {
   "display_name": "Kotlin",
   "language": "kotlin",
   "name": "kotlin"
  },
  "language_info": {
   "name": "kotlin",
   "version": "1.8.20",
   "mimetype": "text/x-kotlin",
   "file_extension": ".kt",
   "pygments_lexer": "kotlin",
   "codemirror_mode": "text/x-kotlin",
   "nbconvert_exporter": ""
  },
  "ktnbPluginMetadata": {
   "isAddProjectLibrariesToClasspath": false
  }
 },
 "nbformat": 4,
 "nbformat_minor": 0
}
