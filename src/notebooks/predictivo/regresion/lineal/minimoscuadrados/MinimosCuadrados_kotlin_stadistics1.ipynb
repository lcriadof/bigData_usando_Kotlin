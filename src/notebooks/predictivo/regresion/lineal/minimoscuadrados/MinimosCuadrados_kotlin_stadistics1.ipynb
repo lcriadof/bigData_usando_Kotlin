{
 "cells": [
  {
   "cell_type": "code",
   "execution_count": 1,
   "metadata": {
    "ExecuteTime": {
     "end_time": "2023-08-08T21:03:04.820405400Z",
     "start_time": "2023-08-08T21:03:04.618408900Z"
    }
   },
   "outputs": [],
   "source": [
    "@file:Repository(\"https://repo1.maven.org/maven2\")\n",
    "@file:DependsOn(\"org.nield:kotlin-statistics:1.2.1\")"
   ]
  },
  {
   "cell_type": "code",
   "execution_count": 2,
   "metadata": {
    "ExecuteTime": {
     "end_time": "2023-08-08T21:03:13.537303100Z",
     "start_time": "2023-08-08T21:03:13.502302300Z"
    }
   },
   "outputs": [],
   "source": [
    "import org.nield.kotlinstatistics.*"
   ]
  },
  {
   "cell_type": "code",
   "execution_count": 3,
   "metadata": {
    "ExecuteTime": {
     "end_time": "2023-08-08T21:03:44.084307800Z",
     "start_time": "2023-08-08T21:03:43.957315Z"
    }
   },
   "outputs": [
    {
     "name": "stdout",
     "output_type": "stream",
     "text": [
      "Pendiente (slope): 0.9\r\n",
      "Intercepto (intercept): 1.3\r\n"
     ]
    }
   ],
   "source": [
    "val regressionResult = sequenceOf(\n",
    "    1.0 to 2.0, // x = 1.0, y = 2.0\n",
    "    2.0 to 3.0,\n",
    "    3.0 to 5.0,\n",
    "    4.0 to 4.0,\n",
    "    5.0 to 6.0\n",
    ").simpleRegression()\n",
    "\n",
    "val slope = regressionResult.slope\n",
    "val intercept = regressionResult.intercept\n",
    "\n",
    "println(\"Pendiente (slope): $slope\")\n",
    "println(\"Intercepto (intercept): $intercept\")"
   ]
  },
  {
   "cell_type": "code",
   "execution_count": null,
   "metadata": {},
   "outputs": [],
   "source": []
  }
 ],
 "metadata": {
  "kernelspec": {
   "display_name": "Kotlin",
   "language": "kotlin",
   "name": "kotlin"
  },
  "ktnbPluginMetadata": {
   "isAddProjectLibrariesToClasspath": false
  },
  "language_info": {
   "codemirror_mode": "text/x-kotlin",
   "file_extension": ".kt",
   "mimetype": "text/x-kotlin",
   "name": "kotlin",
   "nbconvert_exporter": "",
   "pygments_lexer": "kotlin",
   "version": "1.8.20"
  }
 },
 "nbformat": 4,
 "nbformat_minor": 1
}
