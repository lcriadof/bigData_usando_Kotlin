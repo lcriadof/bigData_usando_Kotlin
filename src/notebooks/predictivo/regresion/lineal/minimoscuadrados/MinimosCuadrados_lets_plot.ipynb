{
 "cells": [
  {
   "cell_type": "code",
   "execution_count": 1,
   "metadata": {
    "collapsed": true,
    "ExecuteTime": {
     "end_time": "2023-08-20T08:28:56.366232100Z",
     "start_time": "2023-08-20T08:28:54.672090900Z"
    }
   },
   "outputs": [
    {
     "data": {
      "text/html": "   <div id=\"Ql5bUD\"></div>\n   <script type=\"text/javascript\" data-lets-plot-script=\"library\">\n       if(!window.letsPlotCallQueue) {\n           window.letsPlotCallQueue = [];\n       }; \n       window.letsPlotCall = function(f) {\n           window.letsPlotCallQueue.push(f);\n       };\n       (function() {\n           var script = document.createElement(\"script\");\n           script.type = \"text/javascript\";\n           script.src = \"https://cdn.jsdelivr.net/gh/JetBrains/lets-plot@v3.2.0/js-package/distr/lets-plot.min.js\";\n           script.onload = function() {\n               window.letsPlotCall = function(f) {f();};\n               window.letsPlotCallQueue.forEach(function(f) {f();});\n               window.letsPlotCallQueue = [];\n               \n               \n           };\n           script.onerror = function(event) {\n               window.letsPlotCall = function(f) {};\n               window.letsPlotCallQueue = [];\n               var div = document.createElement(\"div\");\n               div.style.color = 'darkred';\n               div.textContent = 'Error loading Lets-Plot JS';\n               document.getElementById(\"Ql5bUD\").appendChild(div);\n           };\n           var e = document.getElementById(\"Ql5bUD\");\n           e.appendChild(script);\n       })();\n   </script>"
     },
     "metadata": {},
     "output_type": "display_data"
    }
   ],
   "source": [
    "%use lets-plot"
   ]
  },
  {
   "cell_type": "code",
   "execution_count": 2,
   "outputs": [
    {
     "name": "stderr",
     "output_type": "stream",
     "text": [
      "Line_9.jupyter.kts (11:42 - 45) Unresolved reference: aes\n",
      "Line_9.jupyter.kts (13:52 - 60) Unresolved reference: letsPlot\n",
      "Line_9.jupyter.kts (17:43 - 46) Unresolved reference: aes"
     ]
    }
   ],
   "source": [
    "// Crear un objeto de tipo PlotSpec\n",
    "val plot = letsPlot()\n",
    "\n",
    "// Crear un conjunto de datos con los valores de x e y que quieres graficar\n",
    "val datos = mapOf(\n",
    "    \"x\" to listOf(1.0, 3.0, 5.0), // valores de x\n",
    "    \"y\" to listOf(2.0, 3.0, 5.0) // valores de y\n",
    ")\n",
    "\n",
    "// Añadir una capa de tipo geom_point para mostrar los puntos en el gráfico\n",
    "plot + geomPoint(data = datos, mapping = aes(x = \"x\", y = \"y\"))\n",
    "\n",
    "\n",
    "// Añadir una capa de tipo geom_smooth con el método \"lm\" para mostrar la línea de regresión lineal\n",
    "plot + geomSmooth(data = datos, mapping = aes(x = \"x\", y = \"y\"), method = \"lm\")\n",
    "\n",
    "// Mostrar el gráfico con el método show()\n",
    "plot.show()\n"
   ],
   "metadata": {
    "collapsed": false,
    "ExecuteTime": {
     "end_time": "2023-08-20T08:28:56.526229900Z",
     "start_time": "2023-08-20T08:28:56.349789300Z"
    }
   }
  },
  {
   "cell_type": "code",
   "execution_count": 3,
   "outputs": [],
   "source": [
    "// Importar la librería lets-plot\n",
    "import jetbrains.letsPlot.*\n",
    "import jetbrains.letsPlot.geom.*\n",
    "import jetbrains.letsPlot.intern.toSpec"
   ],
   "metadata": {
    "collapsed": false
   }
  }
 ],
 "metadata": {
  "kernelspec": {
   "display_name": "Kotlin",
   "language": "kotlin",
   "name": "kotlin"
  },
  "language_info": {
   "name": "kotlin",
   "version": "1.8.20",
   "mimetype": "text/x-kotlin",
   "file_extension": ".kt",
   "pygments_lexer": "kotlin",
   "codemirror_mode": "text/x-kotlin",
   "nbconvert_exporter": ""
  },
  "ktnbPluginMetadata": {
   "isAddProjectLibrariesToClasspath": false
  }
 },
 "nbformat": 4,
 "nbformat_minor": 0
}
