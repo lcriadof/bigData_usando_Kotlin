{
 "cells": [
  {
   "cell_type": "markdown",
   "id": "86ae18fc",
   "metadata": {},
   "source": [
    "\n"
   ]
  },
  {
   "cell_type": "code",
   "execution_count": 4,
   "id": "f215e492-3d33-4457-afcd-2a3021c68608",
   "metadata": {
    "ExecuteTime": {
     "end_time": "2023-08-17T10:36:45.023596200Z",
     "start_time": "2023-08-17T10:36:44.653042800Z"
    }
   },
   "outputs": [],
   "source": [
    "// usando la libreria de\n",
    "\n",
    "\n",
    "@file:Repository(\"https://repo1.maven.org/maven2/\")\n",
    "@file:DependsOn(\"org.apache.commons:commons-math3:3.6.1\")\n",
    "\n"
   ]
  },
  {
   "cell_type": "code",
   "execution_count": 5,
   "outputs": [
    {
     "name": "stdout",
     "output_type": "stream",
     "text": [
      "La ecuación de la línea de regresión es: y = 0.75 x + 1.0833333333333333\r\n"
     ]
    }
   ],
   "source": [
    "import org.apache.commons.math3.stat.regression.SimpleRegression\n",
    "\n",
    "// Crear un objeto de regresión simple\n",
    "        val regression = SimpleRegression()\n",
    "        // Añadir los datos (x, y)\n",
    "        regression.addData(1.0, 2.0)\n",
    "        regression.addData(3.0, 3.0)\n",
    "        regression.addData(5.0, 5.0)\n",
    "        // Obtener los parámetros del modelo\n",
    "        val slope = regression.slope\n",
    "        val intercept = regression.intercept\n",
    "        // Imprimir los resultados\n",
    "        println(\"La ecuación de la línea de regresión es: y = $slope x + $intercept\")"
   ],
   "metadata": {
    "collapsed": false,
    "ExecuteTime": {
     "end_time": "2023-08-17T10:38:32.899920400Z",
     "start_time": "2023-08-17T10:38:32.727516900Z"
    }
   }
  },
  {
   "cell_type": "code",
   "execution_count": 6,
   "outputs": [
    {
     "name": "stdout",
     "output_type": "stream",
     "text": [
      "El coeficiente de correlación de Pearson es: 0.9819805060619657\r\n"
     ]
    }
   ],
   "source": [
    "val r = regression.getR()\n",
    "println(\"El coeficiente de correlación de Pearson es: $r\")\n"
   ],
   "metadata": {
    "collapsed": false,
    "ExecuteTime": {
     "end_time": "2023-08-17T10:39:56.843401400Z",
     "start_time": "2023-08-17T10:39:56.768959300Z"
    }
   }
  },
  {
   "cell_type": "code",
   "execution_count": null,
   "outputs": [],
   "source": [],
   "metadata": {
    "collapsed": false
   }
  }
 ],
 "metadata": {
  "kernelspec": {
   "display_name": "Kotlin",
   "language": "kotlin",
   "name": "kotlin"
  },
  "language_info": {
   "codemirror_mode": "text/x-kotlin",
   "file_extension": ".kt",
   "mimetype": "text/x-kotlin",
   "name": "kotlin",
   "nbconvert_exporter": "",
   "pygments_lexer": "kotlin",
   "version": "1.8.20"
  }
 },
 "nbformat": 4,
 "nbformat_minor": 5
}
