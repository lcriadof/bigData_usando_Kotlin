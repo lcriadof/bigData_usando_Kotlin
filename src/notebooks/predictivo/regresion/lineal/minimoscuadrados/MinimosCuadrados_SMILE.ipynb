{
 "cells": [
  {
   "cell_type": "markdown",
   "id": "86ae18fc",
   "metadata": {},
   "source": [
    "ejemplo tomado de https://magnusgunnarsson.se/offentlig/getting-started-with-smile-with-kotlin/\n",
    "\n",
    "documentación smaile: https://haifengl.github.io/api/kotlin/index.html\n",
    "github: https://github.com/haifengl/smile\n"
   ]
  },
  {
   "cell_type": "code",
   "execution_count": 13,
   "id": "f215e492-3d33-4457-afcd-2a3021c68608",
   "metadata": {
    "ExecuteTime": {
     "end_time": "2023-08-08T18:25:30.950643900Z",
     "start_time": "2023-08-08T18:25:27.746303700Z"
    }
   },
   "outputs": [],
   "source": [
    "%use smile\n",
    "%use gradle-enterprise-api-kotlin"
   ]
  },
  {
   "cell_type": "markdown",
   "source": [
    "dependencias de smile:\n",
    "\n",
    "\n",
    "https://repo1.maven.org/maven2/org/bytedeco/openblas/\n",
    "https://repo1.maven.org/maven2/org/bytedeco/javacpp/\n",
    "https://repo1.maven.org/maven2/org/bytedeco/arpack-ng/\n",
    "\n",
    "añadimos repositorio de MAVEN y dependencias"
   ],
   "metadata": {
    "collapsed": false
   }
  },
  {
   "cell_type": "code",
   "execution_count": 14,
   "outputs": [],
   "source": [
    "@file:Repository(\"https://repo1.maven.org/maven2/org/bytedeco/openblas/\")\n",
    "@file:DependsOn(\"org.bytedeco:openblas:0.3.21-1.5.8\")\n",
    "@file:DependsOn(\"org.bytedeco:javacpp:1.5.8\")\n",
    "@file:DependsOn(\"org.bytedeco:arpack-ng:3.8.0-1.5.8\")"
   ],
   "metadata": {
    "collapsed": false,
    "ExecuteTime": {
     "end_time": "2023-08-08T18:25:35.049209900Z",
     "start_time": "2023-08-08T18:25:34.932215800Z"
    }
   }
  },
  {
   "cell_type": "code",
   "execution_count": 15,
   "outputs": [],
   "source": [
    "import smile.data.DataFrame\n",
    "import smile.data.formula.Formula\n",
    "import smile.regression.*\n"
   ],
   "metadata": {
    "collapsed": false,
    "ExecuteTime": {
     "end_time": "2023-08-08T18:25:38.911136Z",
     "start_time": "2023-08-08T18:25:38.860916400Z"
    }
   }
  },
  {
   "cell_type": "code",
   "execution_count": 16,
   "id": "6bae835c",
   "metadata": {
    "ExecuteTime": {
     "end_time": "2023-08-08T18:25:40.120314300Z",
     "start_time": "2023-08-08T18:25:40.008312Z"
    }
   },
   "outputs": [],
   "source": [
    "    // Create some data. \n",
    "    var data = Array<DoubleArray>(13){doubleArrayOf(0.0)}\n",
    "    data[0] = doubleArrayOf(57.3142861,45.0,14.0,164900.0,116910.0,48.7392861,133.930123 )\n",
    "    data[1] = doubleArrayOf(23.0073691,43.0,12.0,138633.333,116910.0,30.9357145,138.55321)\n",
    "    data[2] = doubleArrayOf(43.8676314,66.0,21.0,151266.667,120633.333,57.3142861,139.144051)\n",
    "    data[3] = doubleArrayOf(20.0705358,47.0,10.0,128500.0,120633.333,23.0073691,123.355951)\n",
    "    data[4] = doubleArrayOf(27.6794644,40.0,9.0,148766.667,122181.667,43.8676314,122.667478)\n",
    "    data[5] = doubleArrayOf(27.4578573,146.0,66.0,138566.667,126548.333,20.0705358,109.957522)\n",
    "    data[6] = doubleArrayOf(15.9874061,118.0,71.0,134733.333,128621.667,27.4578573,83.9544647)\n",
    "    data[7] = doubleArrayOf(14.8142858,138.0,63.0,127533.333,137826.333,15.9874061,43.041923)\n",
    "    data[8] = doubleArrayOf(15.6678573,150.0,86.0,109466.667,141869.667,14.8142858,35.7447188)\n",
    "    data[9] = doubleArrayOf(14.3601192,128.0,72.0,96800.0,141120.333,15.6678573,37.8162068)\n",
    "    data[10] = doubleArrayOf(14.2407408,145.0,81.0,97166.6667,144084.333,14.3601192,45.3637191)\n",
    "    data[11] = doubleArrayOf(13.6261905,134.0,70.0,98900.0,141082.333,14.2407408,39.4444231)\n",
    "    data[12] = doubleArrayOf(14.1465714,135.0,72.0,112233.333,127618.0,13.6261905,30.6519913)\n",
    "    val features = arrayOf(\"x1\",\"x2\",\"x3\",\"x4\",\"x5\",\"x6\")\n"
   ]
  },
  {
   "cell_type": "code",
   "execution_count": 17,
   "id": "95bbf856",
   "metadata": {
    "ExecuteTime": {
     "end_time": "2023-08-08T18:25:41.987445300Z",
     "start_time": "2023-08-08T18:25:41.935442100Z"
    }
   },
   "outputs": [],
   "source": [
    "   // Convert the data into a SMILE DataFrame\n",
    "    val df = DataFrame.of(data, \"y\", *features) // The first column is the target value (y), and the other columns are the features.\n"
   ]
  },
  {
   "cell_type": "code",
   "execution_count": 18,
   "id": "ab5550ea",
   "metadata": {
    "ExecuteTime": {
     "end_time": "2023-08-08T18:25:43.162420300Z",
     "start_time": "2023-08-08T18:25:43.123420400Z"
    }
   },
   "outputs": [],
   "source": [
    " // Make a formula\n",
    "    val frm = Formula.of(\"y\", *features)"
   ]
  },
  {
   "cell_type": "code",
   "execution_count": 19,
   "outputs": [
    {
     "name": "stderr",
     "output_type": "stream",
     "text": [
      "Could not initialize class org.bytedeco.openblas.global.openblas\r\n",
      "java.lang.NoClassDefFoundError: Could not initialize class org.bytedeco.openblas.global.openblas\r\n",
      "\tat smile.math.blas.openblas.OpenBLAS.gemv(OpenBLAS.java:106)\r\n",
      "\tat smile.math.matrix.Matrix.mv(Matrix.java:1491)\r\n",
      "\tat smile.math.matrix.IMatrix.mv(IMatrix.java:261)\r\n",
      "\tat smile.regression.RidgeRegression.fit(RidgeRegression.java:198)\r\n",
      "\tat smile.regression.RidgeRegression.fit(RidgeRegression.java:116)\r\n",
      "\tat smile.regression.RegressionKt.ridge(regression.kt:104)\r\n",
      "\tat Line_23_jupyter.<init>(Line_23.jupyter.kts:4)\r\n",
      "\tat java.base/jdk.internal.reflect.NativeConstructorAccessorImpl.newInstance0(Native Method)\r\n",
      "\tat java.base/jdk.internal.reflect.NativeConstructorAccessorImpl.newInstance(NativeConstructorAccessorImpl.java:62)\r\n",
      "\tat java.base/jdk.internal.reflect.DelegatingConstructorAccessorImpl.newInstance(DelegatingConstructorAccessorImpl.java:45)\r\n",
      "\tat java.base/java.lang.reflect.Constructor.newInstance(Constructor.java:490)\r\n",
      "\tat kotlin.script.experimental.jvm.BasicJvmScriptEvaluator.evalWithConfigAndOtherScriptsResults(BasicJvmScriptEvaluator.kt:105)\r\n",
      "\tat kotlin.script.experimental.jvm.BasicJvmScriptEvaluator.invoke$suspendImpl(BasicJvmScriptEvaluator.kt:47)\r\n",
      "\tat kotlin.script.experimental.jvm.BasicJvmScriptEvaluator.invoke(BasicJvmScriptEvaluator.kt)\r\n",
      "\tat kotlin.script.experimental.jvm.BasicJvmReplEvaluator.eval(BasicJvmReplEvaluator.kt:49)\r\n",
      "\tat org.jetbrains.kotlinx.jupyter.repl.impl.InternalEvaluatorImpl$eval$resultWithDiagnostics$1.invokeSuspend(InternalEvaluatorImpl.kt:103)\r\n",
      "\tat kotlin.coroutines.jvm.internal.BaseContinuationImpl.resumeWith(ContinuationImpl.kt:33)\r\n",
      "\tat kotlinx.coroutines.DispatchedTask.run(DispatchedTask.kt:106)\r\n",
      "\tat kotlinx.coroutines.EventLoopImplBase.processNextEvent(EventLoop.common.kt:284)\r\n",
      "\tat kotlinx.coroutines.BlockingCoroutine.joinBlocking(Builders.kt:85)\r\n",
      "\tat kotlinx.coroutines.BuildersKt__BuildersKt.runBlocking(Builders.kt:59)\r\n",
      "\tat kotlinx.coroutines.BuildersKt.runBlocking(Unknown Source)\r\n",
      "\tat kotlinx.coroutines.BuildersKt__BuildersKt.runBlocking$default(Builders.kt:38)\r\n",
      "\tat kotlinx.coroutines.BuildersKt.runBlocking$default(Unknown Source)\r\n",
      "\tat org.jetbrains.kotlinx.jupyter.repl.impl.InternalEvaluatorImpl.eval(InternalEvaluatorImpl.kt:103)\r\n",
      "\tat org.jetbrains.kotlinx.jupyter.repl.impl.CellExecutorImpl$execute$1$result$1.invoke(CellExecutorImpl.kt:75)\r\n",
      "\tat org.jetbrains.kotlinx.jupyter.repl.impl.CellExecutorImpl$execute$1$result$1.invoke(CellExecutorImpl.kt:73)\r\n",
      "\tat org.jetbrains.kotlinx.jupyter.ReplForJupyterImpl.withHost(repl.kt:666)\r\n",
      "\tat org.jetbrains.kotlinx.jupyter.repl.impl.CellExecutorImpl.execute(CellExecutorImpl.kt:73)\r\n",
      "\tat org.jetbrains.kotlinx.jupyter.repl.CellExecutor$DefaultImpls.execute$default(CellExecutor.kt:15)\r\n",
      "\tat org.jetbrains.kotlinx.jupyter.ReplForJupyterImpl$evalEx$1.invoke(repl.kt:479)\r\n",
      "\tat org.jetbrains.kotlinx.jupyter.ReplForJupyterImpl$evalEx$1.invoke(repl.kt:470)\r\n",
      "\tat org.jetbrains.kotlinx.jupyter.ReplForJupyterImpl.withEvalContext(repl.kt:433)\r\n",
      "\tat org.jetbrains.kotlinx.jupyter.ReplForJupyterImpl.evalEx(repl.kt:470)\r\n",
      "\tat org.jetbrains.kotlinx.jupyter.messaging.ProtocolKt$shellMessagesHandler$2$res$1.invoke(protocol.kt:318)\r\n",
      "\tat org.jetbrains.kotlinx.jupyter.messaging.ProtocolKt$shellMessagesHandler$2$res$1.invoke(protocol.kt:312)\r\n",
      "\tat org.jetbrains.kotlinx.jupyter.JupyterExecutorImpl$runExecution$execThread$1.invoke(execution.kt:37)\r\n",
      "\tat org.jetbrains.kotlinx.jupyter.JupyterExecutorImpl$runExecution$execThread$1.invoke(execution.kt:32)\r\n",
      "\tat kotlin.concurrent.ThreadsKt$thread$thread$1.run(Thread.kt:30)\r\n"
     ]
    }
   ],
   "source": [
    "\n",
    "   // Regression\n",
    "    val lm = ridge(frm, df, lambda=1.0)\n",
    "\n"
   ],
   "metadata": {
    "collapsed": false,
    "ExecuteTime": {
     "end_time": "2023-08-08T18:25:44.378823400Z",
     "start_time": "2023-08-08T18:25:44.341823700Z"
    }
   }
  },
  {
   "cell_type": "code",
   "execution_count": 8,
   "outputs": [
    {
     "name": "stderr",
     "output_type": "stream",
     "text": [
      "null\r\n",
      "java.lang.NullPointerException\r\n",
      "\tat Line_12_jupyter.<init>(Line_12.jupyter.kts:2)\r\n",
      "\tat java.base/jdk.internal.reflect.NativeConstructorAccessorImpl.newInstance0(Native Method)\r\n",
      "\tat java.base/jdk.internal.reflect.NativeConstructorAccessorImpl.newInstance(NativeConstructorAccessorImpl.java:62)\r\n",
      "\tat java.base/jdk.internal.reflect.DelegatingConstructorAccessorImpl.newInstance(DelegatingConstructorAccessorImpl.java:45)\r\n",
      "\tat java.base/java.lang.reflect.Constructor.newInstance(Constructor.java:490)\r\n",
      "\tat kotlin.script.experimental.jvm.BasicJvmScriptEvaluator.evalWithConfigAndOtherScriptsResults(BasicJvmScriptEvaluator.kt:105)\r\n",
      "\tat kotlin.script.experimental.jvm.BasicJvmScriptEvaluator.invoke$suspendImpl(BasicJvmScriptEvaluator.kt:47)\r\n",
      "\tat kotlin.script.experimental.jvm.BasicJvmScriptEvaluator.invoke(BasicJvmScriptEvaluator.kt)\r\n",
      "\tat kotlin.script.experimental.jvm.BasicJvmReplEvaluator.eval(BasicJvmReplEvaluator.kt:49)\r\n",
      "\tat org.jetbrains.kotlinx.jupyter.repl.impl.InternalEvaluatorImpl$eval$resultWithDiagnostics$1.invokeSuspend(InternalEvaluatorImpl.kt:103)\r\n",
      "\tat kotlin.coroutines.jvm.internal.BaseContinuationImpl.resumeWith(ContinuationImpl.kt:33)\r\n",
      "\tat kotlinx.coroutines.DispatchedTask.run(DispatchedTask.kt:106)\r\n",
      "\tat kotlinx.coroutines.EventLoopImplBase.processNextEvent(EventLoop.common.kt:284)\r\n",
      "\tat kotlinx.coroutines.BlockingCoroutine.joinBlocking(Builders.kt:85)\r\n",
      "\tat kotlinx.coroutines.BuildersKt__BuildersKt.runBlocking(Builders.kt:59)\r\n",
      "\tat kotlinx.coroutines.BuildersKt.runBlocking(Unknown Source)\r\n",
      "\tat kotlinx.coroutines.BuildersKt__BuildersKt.runBlocking$default(Builders.kt:38)\r\n",
      "\tat kotlinx.coroutines.BuildersKt.runBlocking$default(Unknown Source)\r\n",
      "\tat org.jetbrains.kotlinx.jupyter.repl.impl.InternalEvaluatorImpl.eval(InternalEvaluatorImpl.kt:103)\r\n",
      "\tat org.jetbrains.kotlinx.jupyter.repl.impl.CellExecutorImpl$execute$1$result$1.invoke(CellExecutorImpl.kt:75)\r\n",
      "\tat org.jetbrains.kotlinx.jupyter.repl.impl.CellExecutorImpl$execute$1$result$1.invoke(CellExecutorImpl.kt:73)\r\n",
      "\tat org.jetbrains.kotlinx.jupyter.ReplForJupyterImpl.withHost(repl.kt:666)\r\n",
      "\tat org.jetbrains.kotlinx.jupyter.repl.impl.CellExecutorImpl.execute(CellExecutorImpl.kt:73)\r\n",
      "\tat org.jetbrains.kotlinx.jupyter.repl.CellExecutor$DefaultImpls.execute$default(CellExecutor.kt:15)\r\n",
      "\tat org.jetbrains.kotlinx.jupyter.ReplForJupyterImpl$evalEx$1.invoke(repl.kt:479)\r\n",
      "\tat org.jetbrains.kotlinx.jupyter.ReplForJupyterImpl$evalEx$1.invoke(repl.kt:470)\r\n",
      "\tat org.jetbrains.kotlinx.jupyter.ReplForJupyterImpl.withEvalContext(repl.kt:433)\r\n",
      "\tat org.jetbrains.kotlinx.jupyter.ReplForJupyterImpl.evalEx(repl.kt:470)\r\n",
      "\tat org.jetbrains.kotlinx.jupyter.messaging.ProtocolKt$shellMessagesHandler$2$res$1.invoke(protocol.kt:318)\r\n",
      "\tat org.jetbrains.kotlinx.jupyter.messaging.ProtocolKt$shellMessagesHandler$2$res$1.invoke(protocol.kt:312)\r\n",
      "\tat org.jetbrains.kotlinx.jupyter.JupyterExecutorImpl$runExecution$execThread$1.invoke(execution.kt:37)\r\n",
      "\tat org.jetbrains.kotlinx.jupyter.JupyterExecutorImpl$runExecution$execThread$1.invoke(execution.kt:32)\r\n",
      "\tat kotlin.concurrent.ThreadsKt$thread$thread$1.run(Thread.kt:30)\r\n"
     ]
    }
   ],
   "source": [
    "    // Print some results\n",
    "    println( \"\\nIntercept: ${\"%.2e\".format(lm.intercept())}\" )\n",
    "    println( \"Coefficients:\" )\n",
    "    for ( ix in 0 until features.size ){\n",
    "        println( \"\\t${features[ix]}: ${\"%.2e\".format(lm.coefficients()[ix])}\")\n",
    "    }\n",
    "\n",
    "    // Make predictions\n",
    "    val predictions = lm.predict(df)\n",
    "    println(\"\\nActual\\tPredicted\")\n",
    "    for ( ix in 0 until data.size ){\n",
    "        println(\"${\"%.2f\".format(data[ix][0])}\\t${\"%.2f\".format(predictions[ix])}\")\n",
    "    }"
   ],
   "metadata": {
    "collapsed": false
   }
  },
  {
   "cell_type": "markdown",
   "source": [
    "Configuring Maven dependencies"
   ],
   "metadata": {
    "collapsed": false
   }
  },
  {
   "cell_type": "code",
   "execution_count": 9,
   "outputs": [],
   "source": [
    "@file:Repository(\"https://repo1.maven.org/maven2\")\n",
    "@file:DependsOn(\"org.nield:kotlin-statistics:1.2.1\")"
   ],
   "metadata": {
    "collapsed": false
   }
  },
  {
   "cell_type": "code",
   "execution_count": 10,
   "outputs": [],
   "source": [
    "import java.time.LocalDate\n",
    "import java.time.temporal.ChronoUnit\n",
    "import org.nield.kotlinstatistics.*\n",
    "\n",
    "data class Patient(val firstName: String,\n",
    "                   val lastName: String,\n",
    "                   val gender: Gender,\n",
    "                   val birthday: LocalDate,\n",
    "                   val whiteBloodCellCount: Int) {\n",
    "\n",
    "    val age = ChronoUnit.YEARS.between(birthday, LocalDate.now())\n",
    "}\n",
    "\n",
    "val patients = listOf(\n",
    "        Patient(\"John\", \"Simone\", Gender.MALE, LocalDate.of(1989, 1, 7), 4500),\n",
    "        Patient(\"Sarah\", \"Marley\", Gender.FEMALE, LocalDate.of(1970, 2, 5), 6700),\n",
    "        Patient(\"Jessica\", \"Arnold\", Gender.FEMALE, LocalDate.of(1980, 3, 9), 3400),\n",
    "        Patient(\"Sam\", \"Beasley\", Gender.MALE, LocalDate.of(1981, 4, 17), 8800),\n",
    "        Patient(\"Dan\", \"Forney\", Gender.MALE, LocalDate.of(1985, 9, 13), 5400),\n",
    "        Patient(\"Lauren\", \"Michaels\", Gender.FEMALE, LocalDate.of(1975, 8, 21), 5000),\n",
    "        Patient(\"Michael\", \"Erlich\", Gender.MALE, LocalDate.of(1985, 12, 17), 4100),\n",
    "        Patient(\"Jason\", \"Miles\", Gender.MALE, LocalDate.of(1991, 11, 1), 3900),\n",
    "        Patient(\"Rebekah\", \"Earley\", Gender.FEMALE, LocalDate.of(1985, 2, 18), 4600),\n",
    "        Patient(\"James\", \"Larson\", Gender.MALE, LocalDate.of(1974, 4, 10), 5100),\n",
    "        Patient(\"Dan\", \"Ulrech\", Gender.MALE, LocalDate.of(1991, 7, 11), 6000),\n",
    "        Patient(\"Heather\", \"Eisner\", Gender.FEMALE, LocalDate.of(1994, 3, 6), 6000),\n",
    "        Patient(\"Jasper\", \"Martin\", Gender.MALE, LocalDate.of(1971, 7, 1), 6000)\n",
    ")\n",
    "\n",
    "enum class Gender {\n",
    "    MALE,\n",
    "    FEMALE\n",
    "}\n",
    "\n",
    "val clusters = patients.multiKMeansCluster(k = 3,\n",
    "        maxIterations = 10000,\n",
    "        trialCount = 50,\n",
    "        xSelector = { it.age.toDouble() },\n",
    "        ySelector = { it.whiteBloodCellCount.toDouble() }\n",
    ")"
   ],
   "metadata": {
    "collapsed": false
   }
  },
  {
   "cell_type": "code",
   "execution_count": 11,
   "outputs": [
    {
     "name": "stdout",
     "output_type": "stream",
     "text": [
      "CENTROID: 0\r\n",
      "\tPatient(firstName=Dan, lastName=Forney, gender=MALE, birthday=1985-09-13, whiteBloodCellCount=5400)\r\n",
      "\tPatient(firstName=Lauren, lastName=Michaels, gender=FEMALE, birthday=1975-08-21, whiteBloodCellCount=5000)\r\n",
      "\tPatient(firstName=James, lastName=Larson, gender=MALE, birthday=1974-04-10, whiteBloodCellCount=5100)\r\n",
      "\tPatient(firstName=Dan, lastName=Ulrech, gender=MALE, birthday=1991-07-11, whiteBloodCellCount=6000)\r\n",
      "\tPatient(firstName=Heather, lastName=Eisner, gender=FEMALE, birthday=1994-03-06, whiteBloodCellCount=6000)\r\n",
      "\tPatient(firstName=Jasper, lastName=Martin, gender=MALE, birthday=1971-07-01, whiteBloodCellCount=6000)\r\n",
      "CENTROID: 1\r\n",
      "\tPatient(firstName=John, lastName=Simone, gender=MALE, birthday=1989-01-07, whiteBloodCellCount=4500)\r\n",
      "\tPatient(firstName=Jessica, lastName=Arnold, gender=FEMALE, birthday=1980-03-09, whiteBloodCellCount=3400)\r\n",
      "\tPatient(firstName=Michael, lastName=Erlich, gender=MALE, birthday=1985-12-17, whiteBloodCellCount=4100)\r\n",
      "\tPatient(firstName=Jason, lastName=Miles, gender=MALE, birthday=1991-11-01, whiteBloodCellCount=3900)\r\n",
      "\tPatient(firstName=Rebekah, lastName=Earley, gender=FEMALE, birthday=1985-02-18, whiteBloodCellCount=4600)\r\n",
      "CENTROID: 2\r\n",
      "\tPatient(firstName=Sarah, lastName=Marley, gender=FEMALE, birthday=1970-02-05, whiteBloodCellCount=6700)\r\n",
      "\tPatient(firstName=Sam, lastName=Beasley, gender=MALE, birthday=1981-04-17, whiteBloodCellCount=8800)\r\n"
     ]
    }
   ],
   "source": [
    "clusters.forEachIndexed { index, item ->\n",
    "    println(\"CENTROID: $index\")\n",
    "    item.points.forEach {\n",
    "        println(\"\\t$it\")\n",
    "    }\n",
    "}"
   ],
   "metadata": {
    "collapsed": false
   }
  },
  {
   "cell_type": "code",
   "execution_count": 12,
   "outputs": [],
   "source": [],
   "metadata": {
    "collapsed": false
   }
  }
 ],
 "metadata": {
  "kernelspec": {
   "display_name": "Kotlin",
   "language": "kotlin",
   "name": "kotlin"
  },
  "language_info": {
   "codemirror_mode": "text/x-kotlin",
   "file_extension": ".kt",
   "mimetype": "text/x-kotlin",
   "name": "kotlin",
   "nbconvert_exporter": "",
   "pygments_lexer": "kotlin",
   "version": "1.8.20"
  }
 },
 "nbformat": 4,
 "nbformat_minor": 5
}
