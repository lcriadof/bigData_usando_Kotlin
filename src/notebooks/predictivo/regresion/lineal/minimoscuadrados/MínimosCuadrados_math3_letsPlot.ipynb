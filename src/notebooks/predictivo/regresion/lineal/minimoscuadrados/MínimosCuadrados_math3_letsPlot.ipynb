{
 "cells": [
  {
   "cell_type": "markdown",
   "id": "f21e9056",
   "metadata": {},
   "source": [
    "## Regresión lineal por mínimos cuadrados\n"
   ]
  },
  {
   "cell_type": "markdown",
   "id": "45305f85",
   "metadata": {},
   "source": [
    "Utilizaremos la librerir [letsPlot] para visualizar y la libreria [commons-math3] para obtener la pendiente y el término independiente de la recta"
   ]
  },
  {
   "cell_type": "code",
   "execution_count": 1,
   "id": "31763ef3",
   "metadata": {},
   "outputs": [],
   "source": [
    "// libreria de commons-math3 \n",
    "@file:Repository(\"https://repo1.maven.org/maven2/\")\n",
    "@file:DependsOn(\"org.apache.commons:commons-math3:3.6.1\")\n"
   ]
  },
  {
   "cell_type": "code",
   "execution_count": 2,
   "id": "f9468619",
   "metadata": {},
   "outputs": [
    {
     "data": {
      "text/html": [
       "   <div id=\"XHtICZ\"></div>\n",
       "   <script type=\"text/javascript\" data-lets-plot-script=\"library\">\n",
       "       if(!window.letsPlotCallQueue) {\n",
       "           window.letsPlotCallQueue = [];\n",
       "       }; \n",
       "       window.letsPlotCall = function(f) {\n",
       "           window.letsPlotCallQueue.push(f);\n",
       "       };\n",
       "       (function() {\n",
       "           var script = document.createElement(\"script\");\n",
       "           script.type = \"text/javascript\";\n",
       "           script.src = \"https://cdn.jsdelivr.net/gh/JetBrains/lets-plot@v3.2.0/js-package/distr/lets-plot.min.js\";\n",
       "           script.onload = function() {\n",
       "               window.letsPlotCall = function(f) {f();};\n",
       "               window.letsPlotCallQueue.forEach(function(f) {f();});\n",
       "               window.letsPlotCallQueue = [];\n",
       "               \n",
       "               \n",
       "           };\n",
       "           script.onerror = function(event) {\n",
       "               window.letsPlotCall = function(f) {};\n",
       "               window.letsPlotCallQueue = [];\n",
       "               var div = document.createElement(\"div\");\n",
       "               div.style.color = 'darkred';\n",
       "               div.textContent = 'Error loading Lets-Plot JS';\n",
       "               document.getElementById(\"XHtICZ\").appendChild(div);\n",
       "           };\n",
       "           var e = document.getElementById(\"XHtICZ\");\n",
       "           e.appendChild(script);\n",
       "       })();\n",
       "   </script>"
      ]
     },
     "metadata": {},
     "output_type": "display_data"
    }
   ],
   "source": [
    "// libreria de lets-plot\n",
    "%use lets-plot"
   ]
  },
  {
   "cell_type": "code",
   "execution_count": 3,
   "id": "3a28b691",
   "metadata": {},
   "outputs": [],
   "source": [
    "// Crear un objeto de regresión simple\n",
    "import org.apache.commons.math3.stat.regression.SimpleRegression\n",
    "\n",
    "val regression = SimpleRegression()\n",
    "\n"
   ]
  },
  {
   "cell_type": "markdown",
   "id": "ae65c044",
   "metadata": {},
   "source": [
    "#### Preparamos datos"
   ]
  },
  {
   "cell_type": "code",
   "execution_count": 4,
   "id": "241277d0",
   "metadata": {},
   "outputs": [],
   "source": [
    "// Crear un conjunto de datos con los valores de x e y para graficar con lets-plot\n",
    "val d = mapOf(\n",
    "    \"x\" to listOf(1.0, 2.0, 3.0, 4.0, 5.0),\n",
    "    \"y\" to listOf(2.0, 3.0, 5.0, 4.0, 6.0)\n",
    ")\n"
   ]
  },
  {
   "cell_type": "code",
   "execution_count": 5,
   "id": "3e42fb25",
   "metadata": {},
   "outputs": [
    {
     "name": "stdout",
     "output_type": "stream",
     "text": [
      "x = 1.0, y = 2.0\r\n",
      "x = 2.0, y = 3.0\r\n",
      "x = 3.0, y = 5.0\r\n",
      "x = 4.0, y = 4.0\r\n",
      "x = 5.0, y = 6.0\r\n"
     ]
    }
   ],
   "source": [
    "// este bucle nos permite recorrer el mapa para alimentar el objeto de regresión de math3\n",
    "for (i in d[\"x\"]?.indices ?: emptyList<Int>().indices) {\n",
    "    val xValue = d[\"x\"]?.get(i)\n",
    "    val yValue = d[\"y\"]?.get(i)\n",
    "    \n",
    "    if (xValue != null && yValue != null) {\n",
    "        println(\"x = $xValue, y = $yValue\")\n",
    "        regression.addData(xValue,yValue)\n",
    "    }\n",
    "}\n"
   ]
  },
  {
   "cell_type": "markdown",
   "id": "4a9b0f25",
   "metadata": {},
   "source": [
    "#### Dibujamos la regresión lineal"
   ]
  },
  {
   "cell_type": "code",
   "execution_count": 6,
   "id": "fe7b910b",
   "metadata": {},
   "outputs": [
    {
     "data": {
      "text/html": [
       "   <div id=\"Xcoiqf\"></div>\n",
       "   <script type=\"text/javascript\" data-lets-plot-script=\"plot\">\n",
       "       (function() {\n",
       "           var plotSpec={\n",
       "\"mapping\":{\n",
       "\"x\":\"x\",\n",
       "\"y\":\"y\"\n",
       "},\n",
       "\"data\":{\n",
       "\"x\":[1.0,2.0,3.0,4.0,5.0],\n",
       "\"y\":[2.0,3.0,5.0,4.0,6.0]\n",
       "},\n",
       "\"kind\":\"plot\",\n",
       "\"scales\":[],\n",
       "\"layers\":[{\n",
       "\"mapping\":{\n",
       "},\n",
       "\"stat\":\"identity\",\n",
       "\"position\":\"identity\",\n",
       "\"geom\":\"point\",\n",
       "\"data\":{\n",
       "}\n",
       "},{\n",
       "\"mapping\":{\n",
       "},\n",
       "\"stat\":\"smooth\",\n",
       "\"method\":\"lm\",\n",
       "\"level\":0.95,\n",
       "\"position\":\"identity\",\n",
       "\"geom\":\"smooth\",\n",
       "\"data\":{\n",
       "\"..ymax..\":[4.16179165653603,4.17439296860331,4.187288341163281,4.200493239918977,4.214024071800542,4.2278982405780665,4.242134204169734,4.256751533271693,4.271770970815925,4.28721449161984,4.303105361423954,4.3194681943195885,4.336329007345337,4.353715270778264,4.371655952363766,4.390181553418985,4.409324134413243,4.429117327283134,4.449596331391528,4.470797889705929,4.492760241474904,4.515523047450999,4.53912728358032,4.563615099094951,4.589029635151608,4.615414800608113,4.642815002266539,4.67127482797948,4.700838682441135,4.731550377272349,4.763452679132146,4.796586821982087,4.830991992184076,4.866704797671657,4.903758734804146,4.942183668469834,4.982005342320406,5.023244936486286,5.065918689585305,5.110037600218495,5.155607220471659,5.2026275503448,5.251093037752108,5.300992684092558,5.352310250748314,5.4050245575889555,5.459109860962796,5.514536295981546,5.571270366285885,5.629275463942272,5.688512402588804,5.748939948263919,5.810515334308593,5.873194749101981,5.936933787949885,6.0016878629997095,6.067412567449383,6.13406399244108,6.201598996818087,6.269975431348321,6.339152320085676,6.409090002277604,6.479750238675539,6.551096286311978,6.623092945824047,6.695706585275158,6.768905144195985,6.8426581212693876,6.916936548749969,6.991712956360663,7.066961327062877,7.142657046765292,7.218776849727389,7.295298761131759,7.372202038046422,7.449467109775226,7.52707551839999,7.605009860150623,7.68325372809698,7.76179165653603],\n",
       "\"x\":[1.0,1.0506329113924051,1.1012658227848102,1.1518987341772151,1.2025316455696202,1.2531645569620253,1.3037974683544304,1.3544303797468356,1.4050632911392404,1.4556962025316456,1.5063291139240507,1.5569620253164556,1.6075949367088609,1.6582278481012658,1.7088607594936709,1.759493670886076,1.810126582278481,1.8607594936708862,1.9113924050632911,1.9620253164556962,2.0126582278481013,2.0632911392405062,2.113924050632911,2.1645569620253164,2.2151898734177218,2.2658227848101267,2.3164556962025316,2.367088607594937,2.4177215189873418,2.4683544303797467,2.518987341772152,2.569620253164557,2.620253164556962,2.670886075949367,2.7215189873417724,2.772151898734177,2.8227848101265822,2.8734177215189876,2.9240506329113924,2.9746835443037973,3.0253164556962027,3.0759493670886076,3.1265822784810124,3.1772151898734178,3.2278481012658227,3.278481012658228,3.329113924050633,3.3797468354430378,3.430379746835443,3.481012658227848,3.5316455696202533,3.5822784810126582,3.632911392405063,3.6835443037974684,3.7341772151898733,3.7848101265822782,3.8354430379746836,3.8860759493670884,3.9367088607594938,3.9873417721518987,4.037974683544304,4.088607594936709,4.139240506329114,4.189873417721519,4.240506329113924,4.291139240506329,4.341772151898734,4.3924050632911396,4.443037974683545,4.493670886075949,4.544303797468354,4.594936708860759,4.6455696202531644,4.69620253164557,4.746835443037975,4.7974683544303796,4.848101265822785,4.898734177215189,4.949367088607595,5.0],\n",
       "\"..ymin..\":[0.23820834346396946,0.3167462719030196,0.39499013984937625,0.47292448160001044,0.5505328902247744,0.6277979619535785,0.7047012388682403,0.7812231502726112,0.8573429532347079,0.9330386729371216,1.0082870436393365,1.0830634512500308,1.1573418787306122,1.2310948558040142,1.3042934147248413,1.3769070541759514,1.448903713688022,1.5202497613244612,1.5909099977223964,1.6608476799143241,1.730024568651678,1.7984010031819126,1.8659360075589195,1.9325874325506176,1.998312137000291,2.0630662120501153,2.126805250898018,2.189484665691406,2.25106005173608,2.311487597411195,2.370724536057727,2.4287296337141147,2.485463704018454,2.5408901390372036,2.594975442411044,2.6476897492516844,2.6990073159074424,2.748906962247892,2.7973724496552013,2.8443927795283406,2.8899623997815054,2.9340813104146948,2.976755063513714,3.017994657679594,3.0578163315301654,3.0962412651958537,3.133295202328343,3.169008007815923,3.2034131780179127,3.236547320867854,3.2684496227276507,3.2991613175588643,3.32872517202052,3.3571849977334614,3.3845851993918874,3.4109703648483927,3.4363849009050487,3.4608727164196798,3.4844769525490014,3.5072397585250954,3.5292021102940705,3.550403668608472,3.5708826727168663,3.590675865586757,3.6098184465810137,3.628344047636233,3.646284729221735,3.6636709926546622,3.6805318056804106,3.6968946385760457,3.7127855083801595,3.7282290291840745,3.743248466728307,3.757865795830266,3.7721017594219335,3.785975928199458,3.799506760081023,3.812711658836718,3.8256070313966903,3.8382083434639696],\n",
       "\"y\":[2.1999999999999997,2.2455696202531645,2.291139240506329,2.3367088607594937,2.382278481012658,2.4278481012658224,2.473417721518987,2.518987341772152,2.5645569620253164,2.6101265822784807,2.6556962025316455,2.70126582278481,2.7468354430379747,2.792405063291139,2.837974683544304,2.883544303797468,2.9291139240506325,2.9746835443037973,3.020253164556962,3.0658227848101265,3.111392405063291,3.1569620253164556,3.2025316455696196,3.2481012658227844,3.293670886075949,3.339240506329114,3.3848101265822783,3.430379746835443,3.4759493670886075,3.521518987341772,3.5670886075949366,3.612658227848101,3.6582278481012653,3.70379746835443,3.749367088607595,3.7949367088607593,3.840506329113924,3.886075949367089,3.9316455696202532,3.9772151898734176,4.022784810126582,4.068354430379747,4.113924050632911,4.159493670886076,4.20506329113924,4.250632911392405,4.296202531645569,4.341772151898734,4.387341772151899,4.432911392405063,4.478481012658228,4.524050632911392,4.5696202531645564,4.615189873417721,4.660759493670886,4.706329113924051,4.751898734177216,4.7974683544303796,4.843037974683544,4.888607594936708,4.934177215189873,4.979746835443038,5.025316455696203,5.0708860759493675,5.1164556962025305,5.162025316455695,5.20759493670886,5.253164556962025,5.29873417721519,5.3443037974683545,5.389873417721518,5.435443037974683,5.481012658227848,5.526582278481013,5.572151898734178,5.6177215189873415,5.663291139240506,5.70886075949367,5.754430379746835,5.8]\n",
       "}\n",
       "}]\n",
       "};\n",
       "           var plotContainer = document.getElementById(\"Xcoiqf\");\n",
       "           window.letsPlotCall(function() {{\n",
       "               LetsPlot.buildPlotFromProcessedSpecs(plotSpec, -1, -1, plotContainer);\n",
       "           }});\n",
       "       })();    \n",
       "   </script>"
      ]
     },
     "execution_count": 6,
     "metadata": {},
     "output_type": "execute_result"
    }
   ],
   "source": [
    "// Creamos un objeto plot, que es una representación gráfica de los datos:\n",
    "//   la función recibe dos parámetros: el primero es el mapa de datos `d`, \n",
    "//                                     y el segundo es una expresión lambda que indica qué variables usar\n",
    "//                                     para el eje x y el eje y del gráfico. \n",
    "val p = letsPlot(d) {x=\"x\"; y=\"y\"} \n",
    "\n",
    "// Se usa el operador `+` para añadir dos capas geométricas al objeto plot: \n",
    "//      la función `geomPoint()` dibuja un punto por cada fila de los datos,\n",
    "//       y la función `geomSmooth()` dibuja una línea suavizada que muestra la tendencia de los datos. \n",
    "//mpg_plot + geomPoint() + geomSmooth()\n",
    "\n",
    "//En este caso forzamos que suavice con -> statSmooth(method = \"lm\",  level = 0.95)\n",
    "//        El método “lm” significa regresión lineal\n",
    "//        Establecemos un nivel de confianza (entre 0 y 1) del 95%\n",
    "//               nota:  nivel de confianza establece un rango de valores que es probable que contenga el verdadero valor \n",
    "//                      del parámetro que estamos estimando\n",
    "p + geomPoint() + statSmooth(method = \"lm\", level = 0.95)"
   ]
  },
  {
   "cell_type": "markdown",
   "id": "e049419b",
   "metadata": {},
   "source": [
    "#### Modelo matemático de la regresión lineal"
   ]
  },
  {
   "cell_type": "code",
   "execution_count": 7,
   "id": "ff05f155",
   "metadata": {},
   "outputs": [
    {
     "name": "stdout",
     "output_type": "stream",
     "text": [
      "La ecuación de la línea de regresión es: y = 0.9 x + 1.3\r\n"
     ]
    }
   ],
   "source": [
    "// Obtener los parámetros del modelo\n",
    "val slope = regression.slope\n",
    "val intercept = regression.intercept\n",
    "\n",
    "// Imprimir los resultados\n",
    "println(\"La ecuación de la línea de regresión es: y = $slope x + $intercept\")"
   ]
  },
  {
   "cell_type": "code",
   "execution_count": 8,
   "id": "cec28e9a",
   "metadata": {},
   "outputs": [
    {
     "name": "stdout",
     "output_type": "stream",
     "text": [
      "El coeficiente de correlación de Pearson es: 0.9\r\n"
     ]
    }
   ],
   "source": [
    "val r = regression.getR()\n",
    "println(\"El coeficiente de correlación de Pearson es: $r\")\n"
   ]
  },
  {
   "cell_type": "code",
   "execution_count": null,
   "id": "dd1b2724",
   "metadata": {},
   "outputs": [],
   "source": []
  }
 ],
 "metadata": {
  "kernelspec": {
   "display_name": "Kotlin",
   "language": "kotlin",
   "name": "kotlin"
  },
  "language_info": {
   "codemirror_mode": "text/x-kotlin",
   "file_extension": ".kt",
   "mimetype": "text/x-kotlin",
   "name": "kotlin",
   "nbconvert_exporter": "",
   "pygments_lexer": "kotlin",
   "version": "1.8.20"
  }
 },
 "nbformat": 4,
 "nbformat_minor": 5
}
