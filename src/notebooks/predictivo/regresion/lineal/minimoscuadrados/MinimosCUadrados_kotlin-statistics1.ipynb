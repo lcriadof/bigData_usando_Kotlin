{
 "cells": [
  {
   "cell_type": "code",
   "execution_count": 1,
   "outputs": [],
   "source": [
    "@file:Repository(\"https://repo1.maven.org/maven2\")\n",
    "@file:DependsOn(\"org.nield:kotlin-statistics:1.2.1\")"
   ],
   "metadata": {
    "collapsed": false,
    "ExecuteTime": {
     "end_time": "2023-08-08T20:59:38.290052100Z",
     "start_time": "2023-08-08T20:59:37.894831800Z"
    }
   }
  },
  {
   "cell_type": "markdown",
   "source": [
    "Ejemplos de usar esta libreria\n",
    "https://blog.kiprosh.com/statistis-for-data-analysis-with-kotlin/"
   ],
   "metadata": {
    "collapsed": false
   }
  },
  {
   "cell_type": "code",
   "execution_count": 2,
   "outputs": [],
   "source": [
    "import org.nield.kotlinstatistics.*"
   ],
   "metadata": {
    "collapsed": false,
    "ExecuteTime": {
     "end_time": "2023-08-08T20:59:46.995176600Z",
     "start_time": "2023-08-08T20:59:46.958176100Z"
    }
   }
  },
  {
   "cell_type": "code",
   "execution_count": 3,
   "outputs": [
    {
     "name": "stdout",
     "output_type": "stream",
     "text": [
      "3.5"
     ]
    }
   ],
   "source": [
    "\n",
    "// calculamos la pendiente\n",
    "print(sequenceOf(\n",
    "    1.0 to 2.0,\n",
    "2.0 to 6.0,\n",
    "3.0 to 9.0\n",
    ").simpleRegression().slope)"
   ],
   "metadata": {
    "collapsed": false,
    "ExecuteTime": {
     "end_time": "2023-08-08T20:59:49.917754100Z",
     "start_time": "2023-08-08T20:59:49.703715400Z"
    }
   }
  },
  {
   "cell_type": "code",
   "execution_count": 4,
   "outputs": [
    {
     "name": "stdout",
     "output_type": "stream",
     "text": [
      "-1.3333333333333333"
     ]
    }
   ],
   "source": [
    "// calculamos el término independiente\n",
    "print(sequenceOf( 1.0 to 2.0, 2.0 to 6.0, 3.0 to 9.0 ).simpleRegression().intercept)"
   ],
   "metadata": {
    "collapsed": false,
    "ExecuteTime": {
     "end_time": "2023-08-08T20:59:51.542898Z",
     "start_time": "2023-08-08T20:59:51.477895500Z"
    }
   }
  },
  {
   "cell_type": "code",
   "execution_count": 5,
   "outputs": [
    {
     "name": "stdout",
     "output_type": "stream",
     "text": [
      "Pendiente (slope): 3.5\r\n",
      "Intercepto (intercept): -1.3333333333333333\r\n"
     ]
    }
   ],
   "source": [
    "val regressionResult = sequenceOf(\n",
    "    1.0 to 2.0, // x = 1.0, y = 2.0\n",
    "2.0 to 6.0, // x = 2.0, y = 6.0\n",
    "3.0 to 9.0  // x = 3.0, y = 9.0\n",
    ").simpleRegression()\n",
    "\n",
    "val slope = regressionResult.slope\n",
    "val intercept = regressionResult.intercept\n",
    "\n",
    "println(\"Pendiente (slope): $slope\")\n",
    "println(\"Intercepto (intercept): $intercept\")"
   ],
   "metadata": {
    "collapsed": false,
    "ExecuteTime": {
     "end_time": "2023-08-08T20:59:52.831292500Z",
     "start_time": "2023-08-08T20:59:52.723291900Z"
    }
   }
  }
 ],
 "metadata": {
  "kernelspec": {
   "name": "kotlin",
   "language": "kotlin",
   "display_name": "Kotlin"
  },
  "language_info": {
   "codemirror_mode": {
    "name": "ipython",
    "version": 2
   },
   "file_extension": ".py",
   "mimetype": "text/x-python",
   "name": "python",
   "nbconvert_exporter": "python",
   "pygments_lexer": "ipython2",
   "version": "2.7.6"
  }
 },
 "nbformat": 4,
 "nbformat_minor": 0
}
