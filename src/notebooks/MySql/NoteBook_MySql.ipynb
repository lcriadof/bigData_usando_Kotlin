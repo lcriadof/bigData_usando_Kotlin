{
 "cells": [
  {
   "cell_type": "code",
   "execution_count": 4,
   "metadata": {
    "collapsed": true,
    "ExecuteTime": {
     "end_time": "2023-08-03T17:28:08.028093900Z",
     "start_time": "2023-08-03T17:28:05.144033800Z"
    }
   },
   "outputs": [],
   "source": [
    "%use exposed\n",
    "%use mysql(8.0.33)\n",
    "\n",
    ""
   ]
  },
  {
   "cell_type": "code",
   "execution_count": 5,
   "outputs": [
    {
     "name": "stdout",
     "output_type": "stream",
     "text": [
      "Conexión exitosa con la base de datos.\r\n",
      "-----------\r\n"
     ]
    }
   ],
   "source": [
    "try {\n",
    "\n",
    "Database.connect(\"jdbc:mysql://localhost:33060/test\", driver = \"com.mysql.cj.jdbc.Driver\",\n",
    "                 user = \"root\", password = \"secret\")\n",
    "transaction {\n",
    "// Si llegamos aquí, la conexión se realizó con éxito\n",
    "println(\"Conexión exitosa con la base de datos.\")\n",
    "}\n",
    "\n",
    "} catch (ex: ClassNotFoundException) {\n",
    "                                     // Excepción específica para problemas de clase no encontrada (driver JDBC)\n",
    "println(\"Error: No se pudo encontrar el controlador JDBC.\")\n",
    "} catch (ex: Exception) {\n",
    "                        // Otras excepciones generales\n",
    "println(\"Error inesperado al conectar con la base de datos: ${ex.message}\")\n",
    "} finally {\n",
    "    println(\"-----------\")\n",
    "}\n"
   ],
   "metadata": {
    "collapsed": false,
    "ExecuteTime": {
     "end_time": "2023-08-03T17:28:08.113095300Z",
     "start_time": "2023-08-03T17:28:08.028093900Z"
    }
   }
  },
  {
   "cell_type": "code",
   "execution_count": 6,
   "outputs": [],
   "source": [
    "object Cities: IntIdTable() {\n",
    "    val name = varchar(\"name\", 50)\n",
    "}"
   ],
   "metadata": {
    "collapsed": false,
    "ExecuteTime": {
     "end_time": "2023-08-03T17:28:08.396093300Z",
     "start_time": "2023-08-03T17:28:08.113095300Z"
    }
   }
  },
  {
   "cell_type": "code",
   "execution_count": 7,
   "outputs": [
    {
     "name": "stdout",
     "output_type": "stream",
     "text": [
      "Cities:\r\n",
      "ID: 1, Name: Madrid\r\n",
      "ID: 2, Name: Málaga\r\n",
      "ID: 3, Name: St. Petersburg\r\n",
      "ID: 4, Name: Almería\r\n"
     ]
    }
   ],
   "source": [
    " // leemos datos\n",
    "transaction {\n",
    "            // 'select *' SQL: SELECT Cities.id, Cities.name FROM Cities\n",
    "val citiesList = Cities.selectAll().toList()\n",
    "\n",
    "                 // Imprimir el contenido de la lista de ciudades\n",
    "println(\"Cities:\")\n",
    "citiesList.forEach { city ->\n",
    "println(\"ID: ${city[Cities.id]}, Name: ${city[Cities.name]}\")\n",
    "}\n",
    "}"
   ],
   "metadata": {
    "collapsed": false,
    "ExecuteTime": {
     "end_time": "2023-08-03T17:28:08.733922900Z",
     "start_time": "2023-08-03T17:28:08.385094600Z"
    }
   }
  }
 ],
 "metadata": {
  "kernelspec": {
   "name": "kotlin",
   "language": "kotlin",
   "display_name": "Kotlin"
  },
  "language_info": {
   "codemirror_mode": {
    "name": "ipython",
    "version": 2
   },
   "file_extension": ".py",
   "mimetype": "text/x-python",
   "name": "python",
   "nbconvert_exporter": "python",
   "pygments_lexer": "ipython2",
   "version": "2.7.6"
  }
 },
 "nbformat": 4,
 "nbformat_minor": 0
}
