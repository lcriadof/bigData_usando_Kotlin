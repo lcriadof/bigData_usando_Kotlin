{
 "cells": [
  {
   "cell_type": "code",
   "execution_count": 2,
   "metadata": {
    "collapsed": true,
    "ExecuteTime": {
     "end_time": "2023-07-31T12:30:59.810336200Z",
     "start_time": "2023-07-31T12:30:59.592339800Z"
    }
   },
   "outputs": [],
   "source": [
    "%use exposed\n",
    "\n",
    "import org.jetbrains.exposed.dao.id.IntIdTable\n",
    "import org.jetbrains.exposed.sql.*\n",
    "import org.jetbrains.exposed.sql.transactions.transaction"
   ]
  },
  {
   "cell_type": "code",
   "execution_count": 3,
   "outputs": [
    {
     "data": {
      "text/plain": "org.jetbrains.exposed.sql.Database@3727e2da"
     },
     "execution_count": 3,
     "metadata": {},
     "output_type": "execute_result"
    }
   ],
   "source": [
    "Database.connect(\"jdbc:mysql://localhost:33060/test\", driver = \"com.mysql.cj.jdbc.Driver\",\n",
    "                   user = \"root\", password = \"secret\")\n"
   ],
   "metadata": {
    "collapsed": false,
    "ExecuteTime": {
     "end_time": "2023-07-31T12:31:16.723807600Z",
     "start_time": "2023-07-31T12:31:16.647615700Z"
    }
   }
  },
  {
   "cell_type": "code",
   "execution_count": 4,
   "outputs": [],
   "source": [
    "object Cities: IntIdTable() {\n",
    "    val name = varchar(\"name\", 50)\n",
    "}"
   ],
   "metadata": {
    "collapsed": false,
    "ExecuteTime": {
     "end_time": "2023-07-31T12:31:50.015927Z",
     "start_time": "2023-07-31T12:31:49.699382300Z"
    }
   }
  },
  {
   "cell_type": "code",
   "execution_count": 5,
   "outputs": [
    {
     "name": "stdout",
     "output_type": "stream",
     "text": [
      "Cities:\r\n",
      "ID: 1, Name: Madrid\r\n",
      "ID: 2, Name: Málaga\r\n"
     ]
    }
   ],
   "source": [
    " // leemos datos\n",
    "transaction {\n",
    "            // 'select *' SQL: SELECT Cities.id, Cities.name FROM Cities\n",
    "val citiesList = Cities.selectAll().toList()\n",
    "\n",
    "                 // Imprimir el contenido de la lista de ciudades\n",
    "println(\"Cities:\")\n",
    "citiesList.forEach { city ->\n",
    "println(\"ID: ${city[Cities.id]}, Name: ${city[Cities.name]}\")\n",
    "}\n",
    "}"
   ],
   "metadata": {
    "collapsed": false,
    "ExecuteTime": {
     "end_time": "2023-07-31T12:32:11.529250200Z",
     "start_time": "2023-07-31T12:32:10.948884600Z"
    }
   }
  },
  {
   "cell_type": "code",
   "execution_count": null,
   "outputs": [],
   "source": [],
   "metadata": {
    "collapsed": false
   }
  }
 ],
 "metadata": {
  "kernelspec": {
   "name": "kotlin",
   "language": "kotlin",
   "display_name": "Kotlin"
  },
  "language_info": {
   "codemirror_mode": {
    "name": "ipython",
    "version": 2
   },
   "file_extension": ".py",
   "mimetype": "text/x-python",
   "name": "python",
   "nbconvert_exporter": "python",
   "pygments_lexer": "ipython2",
   "version": "2.7.6"
  }
 },
 "nbformat": 4,
 "nbformat_minor": 0
}
