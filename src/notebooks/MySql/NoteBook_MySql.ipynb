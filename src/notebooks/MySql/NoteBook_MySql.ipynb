{
 "cells": [
  {
   "cell_type": "code",
   "execution_count": 1,
   "metadata": {
    "collapsed": true,
    "ExecuteTime": {
     "end_time": "2023-08-03T15:39:36.372820100Z",
     "start_time": "2023-08-03T15:39:32.772605200Z"
    }
   },
   "outputs": [],
   "source": [
    "%use exposed\n",
    "%use mysql(8.0.33)\n",
    "\n",
    "import org.jetbrains.exposed.dao.id.IntIdTable\n",
    "import org.jetbrains.exposed.sql.transactions.transaction\n",
    "import java.sql.Connection\n",
    "import java.sql.DriverManager\n",
    "import java.sql.SQLException\n",
    "import com.mysql.cj.jdbc.Driver"
   ]
  },
  {
   "cell_type": "code",
   "execution_count": 2,
   "outputs": [
    {
     "name": "stdout",
     "output_type": "stream",
     "text": [
      "Conexión exitosa con la base de datos.\r\n",
      "-----------\r\n"
     ]
    }
   ],
   "source": [
    "try {\n",
    "\n",
    "Database.connect(\"jdbc:mysql://localhost:33060/test\", driver = \"com.mysql.cj.jdbc.Driver\",\n",
    "                 user = \"root\", password = \"secret\")\n",
    "transaction {\n",
    "// Si llegamos aquí, la conexión se realizó con éxito\n",
    "println(\"Conexión exitosa con la base de datos.\")\n",
    "}\n",
    "\n",
    "} catch (ex: ClassNotFoundException) {\n",
    "                                     // Excepción específica para problemas de clase no encontrada (driver JDBC)\n",
    "println(\"Error: No se pudo encontrar el controlador JDBC.\")\n",
    "} catch (ex: Exception) {\n",
    "                        // Otras excepciones generales\n",
    "println(\"Error inesperado al conectar con la base de datos: ${ex.message}\")\n",
    "} finally {\n",
    "    println(\"-----------\")\n",
    "}\n"
   ],
   "metadata": {
    "collapsed": false,
    "ExecuteTime": {
     "end_time": "2023-08-03T15:39:45.696001100Z",
     "start_time": "2023-08-03T15:39:45.407424700Z"
    }
   }
  },
  {
   "cell_type": "code",
   "execution_count": 3,
   "outputs": [],
   "source": [
    "object Cities: IntIdTable() {\n",
    "    val name = varchar(\"name\", 50)\n",
    "}"
   ],
   "metadata": {
    "collapsed": false,
    "ExecuteTime": {
     "end_time": "2023-08-03T15:39:49.105402600Z",
     "start_time": "2023-08-03T15:39:48.784950800Z"
    }
   }
  },
  {
   "cell_type": "code",
   "execution_count": 4,
   "outputs": [
    {
     "name": "stdout",
     "output_type": "stream",
     "text": [
      "Cities:\r\n",
      "ID: 1, Name: Madrid\r\n",
      "ID: 2, Name: Málaga\r\n",
      "ID: 3, Name: St. Petersburg\r\n",
      "ID: 4, Name: St. Petersburg\r\n",
      "ID: 5, Name: Almería\r\n"
     ]
    }
   ],
   "source": [
    " // leemos datos\n",
    "transaction {\n",
    "            // 'select *' SQL: SELECT Cities.id, Cities.name FROM Cities\n",
    "val citiesList = Cities.selectAll().toList()\n",
    "\n",
    "                 // Imprimir el contenido de la lista de ciudades\n",
    "println(\"Cities:\")\n",
    "citiesList.forEach { city ->\n",
    "println(\"ID: ${city[Cities.id]}, Name: ${city[Cities.name]}\")\n",
    "}\n",
    "}"
   ],
   "metadata": {
    "collapsed": false,
    "ExecuteTime": {
     "end_time": "2023-08-03T15:39:52.264167800Z",
     "start_time": "2023-08-03T15:39:51.936612700Z"
    }
   }
  },
  {
   "cell_type": "code",
   "execution_count": 35,
   "outputs": [],
   "source": [
    "\n"
   ],
   "metadata": {
    "collapsed": false,
    "ExecuteTime": {
     "end_time": "2023-08-03T15:01:11.618295Z",
     "start_time": "2023-08-03T15:01:11.600114100Z"
    }
   }
  },
  {
   "cell_type": "code",
   "execution_count": null,
   "outputs": [],
   "source": [],
   "metadata": {
    "collapsed": false
   }
  }
 ],
 "metadata": {
  "kernelspec": {
   "name": "kotlin",
   "language": "kotlin",
   "display_name": "Kotlin"
  },
  "language_info": {
   "codemirror_mode": {
    "name": "ipython",
    "version": 2
   },
   "file_extension": ".py",
   "mimetype": "text/x-python",
   "name": "python",
   "nbconvert_exporter": "python",
   "pygments_lexer": "ipython2",
   "version": "2.7.6"
  }
 },
 "nbformat": 4,
 "nbformat_minor": 0
}
