{
 "cells": [
  {
   "cell_type": "code",
   "execution_count": 4,
   "metadata": {
    "collapsed": true,
    "ExecuteTime": {
     "end_time": "2023-07-31T19:17:56.577149800Z",
     "start_time": "2023-07-31T19:17:56.538145900Z"
    }
   },
   "outputs": [],
   "source": []
  },
  {
   "cell_type": "code",
   "execution_count": 5,
   "outputs": [],
   "source": [
    "import com.mongodb.ConnectionString\n",
    "import com.mongodb.client.MongoClients\n",
    "import com.mongodb.client.MongoClient\n",
    "import com.mongodb.client.MongoCollection\n",
    "import org.bson.Document\n",
    "\n",
    "fun connectToMongoDB(): MongoClient {\n",
    "    val connectionString = ConnectionString(\"mongodb://localhost:27117\")\n",
    "return MongoClients.create(connectionString)\n",
    "}"
   ],
   "metadata": {
    "collapsed": false,
    "ExecuteTime": {
     "end_time": "2023-07-31T19:18:26.951836100Z",
     "start_time": "2023-07-31T19:18:26.898740800Z"
    }
   }
  },
  {
   "cell_type": "code",
   "execution_count": 3,
   "outputs": [
    {
     "name": "stderr",
     "output_type": "stream",
     "text": [
      "Line_7.jupyter.kts (5:45 - 46) Property getter or setter expected\n",
      "Line_7.jupyter.kts (6:1 - 2) Expecting an element\n",
      "Line_7.jupyter.kts (6:20 - 21) Expecting an element\n",
      "Line_7.jupyter.kts (7:1 - 2) Expecting an element"
     ]
    }
   ],
   "source": [
    "val mongoClient = connectToMongoDB()\n",
    "val database = mongoClient.getDatabase(\"mydb\") // Cambiar por el nombre de tu base de datos\n",
    "val collection: MongoCollection<Document> = database.getCollection(\"mycollection\") // Cambiar por el nombre de tu colección\n",
    "\n",
    "val document = Document(\"name\", \"John Doe\") \\\n",
    ".append(\"age\", 30) \\\n",
    ".append(\"email\", \"john.doe@example.com\")"
   ],
   "metadata": {
    "collapsed": false,
    "ExecuteTime": {
     "end_time": "2023-07-31T19:17:43.416873500Z",
     "start_time": "2023-07-31T19:17:43.395853900Z"
    }
   }
  },
  {
   "cell_type": "code",
   "execution_count": null,
   "outputs": [],
   "source": [],
   "metadata": {
    "collapsed": false
   }
  }
 ],
 "metadata": {
  "kernelspec": {
   "name": "kotlin",
   "language": "kotlin",
   "display_name": "Kotlin"
  },
  "language_info": {
   "codemirror_mode": {
    "name": "ipython",
    "version": 2
   },
   "file_extension": ".py",
   "mimetype": "text/x-python",
   "name": "python",
   "nbconvert_exporter": "python",
   "pygments_lexer": "ipython2",
   "version": "2.7.6"
  }
 },
 "nbformat": 4,
 "nbformat_minor": 0
}
