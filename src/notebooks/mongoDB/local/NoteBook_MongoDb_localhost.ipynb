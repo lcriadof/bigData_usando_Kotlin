{
 "cells": [
  {
   "cell_type": "markdown",
   "metadata": {},
   "source": [
    "## Ejemplo de leer datos de MongoDb (instancia local)\n",
    "\n",
    "probado con -> \n",
    "\n",
    "    docker pull mongo:4.4.3\n",
    "\n",
    "    docker run --name mongo -p 27117:27017 -d mongo:4.4.3\n",
    "\n",
    "aunque el driver es superior funciona perfectamente"
   ]
  },
  {
   "cell_type": "code",
   "execution_count": 1,
   "metadata": {},
   "outputs": [],
   "source": [
    "@file:Repository(\"https://repo1.maven.org/maven2/\")\n",
    "@file:DependsOn(\"org.mongodb:mongodb-driver-kotlin-coroutine:4.10.1\")\n",
    "@file:DependsOn(\"org.mongodb:mongodb-driver-sync:4.10.1\")"
   ]
  },
  {
   "cell_type": "code",
   "execution_count": 2,
   "metadata": {
    "ExecuteTime": {
     "end_time": "2023-08-03T14:45:02.564966Z",
     "start_time": "2023-08-03T14:45:02.541929200Z"
    }
   },
   "outputs": [],
   "source": [
    "import com.mongodb.client.MongoCollection\n",
    "import org.bson.Document\n",
    "import com.mongodb.ConnectionString\n",
    "import com.mongodb.client.MongoClients\n",
    "import com.mongodb.client.MongoClient"
   ]
  },
  {
   "cell_type": "code",
   "execution_count": 3,
   "metadata": {
    "ExecuteTime": {
     "end_time": "2023-08-03T14:45:03.789344100Z",
     "start_time": "2023-08-03T14:45:03.755343600Z"
    }
   },
   "outputs": [],
   "source": [
    "fun connectToMongoDB(): MongoClient {\n",
    "    val connectionString = ConnectionString(\"mongodb://localhost:27117\")\n",
    "return MongoClients.create(connectionString)\n",
    "}"
   ]
  },
  {
   "cell_type": "code",
   "execution_count": 4,
   "metadata": {
    "ExecuteTime": {
     "end_time": "2023-08-03T14:45:05.158339100Z",
     "start_time": "2023-08-03T14:45:05.124369200Z"
    }
   },
   "outputs": [],
   "source": [
    "\n",
    "// conectamos a mongoDB\n",
    "val mongoClient = connectToMongoDB()"
   ]
  },
  {
   "cell_type": "code",
   "execution_count": 5,
   "metadata": {
    "ExecuteTime": {
     "end_time": "2023-08-03T14:45:06.876671500Z",
     "start_time": "2023-08-03T14:45:06.829664Z"
    }
   },
   "outputs": [],
   "source": [
    "   // accedemos a la colección\n",
    "val database = mongoClient.getDatabase(\"tfmLCF\")\n",
    "val collection: MongoCollection<Document> = database.getCollection(\"provincias\")"
   ]
  },
  {
   "cell_type": "code",
   "execution_count": 6,
   "metadata": {
    "ExecuteTime": {
     "end_time": "2023-08-03T14:45:08.406855400Z",
     "start_time": "2023-08-03T14:45:08.372856500Z"
    }
   },
   "outputs": [],
   "source": [
    "// leemos los datos de la colección\n",
    "val cursor = collection.find()"
   ]
  },
  {
   "cell_type": "code",
   "execution_count": 7,
   "metadata": {
    "ExecuteTime": {
     "end_time": "2023-08-03T14:45:09.627437400Z",
     "start_time": "2023-08-03T14:45:09.556939Z"
    }
   },
   "outputs": [
    {
     "name": "stdout",
     "output_type": "stream",
     "text": [
      "Nombre: Madrid, Poblacion: 6666747, Superficie (en Km cuaadrados): 8027\n",
      "Nombre: Barcelona, Poblacion: 5664579, Superficie (en Km cuaadrados): 7720\n",
      "Nombre: Sevilla, Poblacion: 1942389, Superficie (en Km cuaadrados): 14036\n"
     ]
    }
   ],
   "source": [
    "// iteramos sobre el cursor para obtener los documentos\n",
    "cursor.iterator().forEach {\n",
    "println(\"Nombre: ${it[\"nombre\"]}, Poblacion: ${it[\"poblacion\"]}, Superficie (en Km cuaadrados): ${it[\"superficie_km2\"]}\")\n",
    "}"
   ]
  },
  {
   "cell_type": "code",
   "execution_count": 8,
   "metadata": {
    "ExecuteTime": {
     "end_time": "2023-08-03T14:45:11.467140400Z",
     "start_time": "2023-08-03T14:45:11.433866300Z"
    }
   },
   "outputs": [],
   "source": [
    " // cerramos el cliente de MongoDB y liberamos recursos\n",
    "mongoClient.close()"
   ]
  },
  {
   "cell_type": "code",
   "execution_count": null,
   "metadata": {},
   "outputs": [],
   "source": []
  }
 ],
 "metadata": {
  "kernelspec": {
   "display_name": "Kotlin",
   "language": "kotlin",
   "name": "kotlin"
  },
  "language_info": {
   "codemirror_mode": "text/x-kotlin",
   "file_extension": ".kt",
   "mimetype": "text/x-kotlin",
   "name": "kotlin",
   "nbconvert_exporter": "",
   "pygments_lexer": "kotlin",
   "version": "1.8.20"
  }
 },
 "nbformat": 4,
 "nbformat_minor": 1
}
