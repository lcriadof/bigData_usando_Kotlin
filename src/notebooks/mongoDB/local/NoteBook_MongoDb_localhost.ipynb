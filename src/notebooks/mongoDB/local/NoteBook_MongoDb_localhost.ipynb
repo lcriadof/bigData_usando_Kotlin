{
 "cells": [
  {
   "cell_type": "raw",
   "source": [
    "Ejemplo de leer datos de MongoDb (instancia local)"
   ],
   "metadata": {
    "collapsed": false
   }
  },
  {
   "cell_type": "code",
   "execution_count": 14,
   "outputs": [],
   "source": [
    "import com.mongodb.client.MongoCollection\n",
    "import org.bson.Document\n",
    "import com.mongodb.ConnectionString\n",
    "import com.mongodb.client.MongoClients\n",
    "import com.mongodb.client.MongoClient"
   ],
   "metadata": {
    "collapsed": false,
    "ExecuteTime": {
     "end_time": "2023-08-02T16:28:36.965228300Z",
     "start_time": "2023-08-02T16:28:36.936224700Z"
    }
   }
  },
  {
   "cell_type": "code",
   "execution_count": 15,
   "outputs": [],
   "source": [
    "fun connectToMongoDB(): MongoClient {\n",
    "    val connectionString = ConnectionString(\"mongodb://localhost:27117\")\n",
    "return MongoClients.create(connectionString)\n",
    "}"
   ],
   "metadata": {
    "collapsed": false,
    "ExecuteTime": {
     "end_time": "2023-08-02T16:28:38.241994900Z",
     "start_time": "2023-08-02T16:28:38.201343200Z"
    }
   }
  },
  {
   "cell_type": "code",
   "execution_count": 16,
   "outputs": [],
   "source": [
    "// conectamos a mongoDB\n",
    "val mongoClient = connectToMongoDB()"
   ],
   "metadata": {
    "collapsed": false,
    "ExecuteTime": {
     "end_time": "2023-08-02T16:28:39.419795900Z",
     "start_time": "2023-08-02T16:28:39.388478900Z"
    }
   }
  },
  {
   "cell_type": "code",
   "execution_count": 17,
   "outputs": [],
   "source": [
    "   // accedemos a la colección\n",
    "val database = mongoClient.getDatabase(\"tfmLCF\")\n",
    "val collection: MongoCollection<Document> = database.getCollection(\"provincias\")"
   ],
   "metadata": {
    "collapsed": false,
    "ExecuteTime": {
     "end_time": "2023-08-02T16:28:55.670689800Z",
     "start_time": "2023-08-02T16:28:55.627688800Z"
    }
   }
  },
  {
   "cell_type": "code",
   "execution_count": 18,
   "outputs": [],
   "source": [
    "// leemos los datos de la colección\n",
    "val cursor = collection.find()"
   ],
   "metadata": {
    "collapsed": false,
    "ExecuteTime": {
     "end_time": "2023-08-02T16:28:57.738940Z",
     "start_time": "2023-08-02T16:28:57.702940100Z"
    }
   }
  },
  {
   "cell_type": "code",
   "execution_count": 19,
   "outputs": [
    {
     "name": "stdout",
     "output_type": "stream",
     "text": [
      "Nombre: Madrid, Poblacion: 6666747, Superficie (en Km cuaadrados): 8027\r\n",
      "Nombre: Barcelona, Poblacion: 5664579, Superficie (en Km cuaadrados): 7720\r\n"
     ]
    }
   ],
   "source": [
    "// iteramos sobre el cursor para obtener los documentos\n",
    "cursor.iterator().forEach {\n",
    "println(\"Nombre: ${it[\"nombre\"]}, Poblacion: ${it[\"poblacion\"]}, Superficie (en Km cuaadrados): ${it[\"superficie_km2\"]}\")\n",
    "}"
   ],
   "metadata": {
    "collapsed": false,
    "ExecuteTime": {
     "end_time": "2023-08-02T16:28:58.759960700Z",
     "start_time": "2023-08-02T16:28:58.687435400Z"
    }
   }
  },
  {
   "cell_type": "code",
   "execution_count": 20,
   "outputs": [],
   "source": [
    " // cerramos el cliente de MongoDB y liberamos recursos\n",
    "mongoClient.close()"
   ],
   "metadata": {
    "collapsed": false,
    "ExecuteTime": {
     "end_time": "2023-08-02T16:29:02.014098800Z",
     "start_time": "2023-08-02T16:29:01.972338100Z"
    }
   }
  },
  {
   "cell_type": "code",
   "execution_count": null,
   "outputs": [],
   "source": [],
   "metadata": {
    "collapsed": false
   }
  }
 ],
 "metadata": {
  "kernelspec": {
   "name": "kotlin",
   "language": "kotlin",
   "display_name": "Kotlin"
  },
  "language_info": {
   "codemirror_mode": {
    "name": "ipython",
    "version": 2
   },
   "file_extension": ".py",
   "mimetype": "text/x-python",
   "name": "python",
   "nbconvert_exporter": "python",
   "pygments_lexer": "ipython2",
   "version": "2.7.6"
  }
 },
 "nbformat": 4,
 "nbformat_minor": 0
}
