{
 "cells": [
  {
   "cell_type": "markdown",
   "id": "9d22f416",
   "metadata": {},
   "source": [
    "## Ejemplo de escribir datos de MongoDb (instancia local)\n",
    "\n",
    "probado con ->\n",
    "    \n",
    "    docker pull mongo:4.4.3\n",
    "    \n",
    "    docker run --name mongo -p 27117:27017 -d mongo:4.4.3\n",
    "\n",
    "aunque el driver es superior funciona perfectamente"
   ]
  },
  {
   "cell_type": "code",
   "execution_count": 1,
   "id": "7f2595c2",
   "metadata": {},
   "outputs": [],
   "source": [
    "@file:Repository(\"https://repo1.maven.org/maven2/\")\n",
    "@file:DependsOn(\"org.mongodb:mongodb-driver-kotlin-coroutine:4.10.1\")\n",
    "@file:DependsOn(\"org.mongodb:mongodb-driver-sync:4.10.1\")"
   ]
  },
  {
   "cell_type": "code",
   "execution_count": 2,
   "id": "f9557241",
   "metadata": {},
   "outputs": [],
   "source": [
    "import com.mongodb.ConnectionString\n",
    "import com.mongodb.client.MongoClients\n",
    "import com.mongodb.client.MongoClient\n",
    "import com.mongodb.client.MongoCollection\n",
    "import org.bson.Document"
   ]
  },
  {
   "cell_type": "code",
   "execution_count": 3,
   "id": "8ffbe624",
   "metadata": {},
   "outputs": [],
   "source": [
    "fun connectToMongoDB(): MongoClient {\n",
    "  val connectionString = ConnectionString(\"mongodb://localhost:27117\")\n",
    "  return MongoClients.create(connectionString)\n",
    "}\n"
   ]
  },
  {
   "cell_type": "code",
   "execution_count": 4,
   "id": "ffbfd78c",
   "metadata": {},
   "outputs": [],
   "source": [
    "// conectamos a mongoDB\n",
    "    val mongoClient = connectToMongoDB()\n"
   ]
  },
  {
   "cell_type": "code",
   "execution_count": 5,
   "id": "34511fd3",
   "metadata": {},
   "outputs": [],
   "source": [
    "// si no existe creamos BBDD, colección\n",
    "    val database = mongoClient.getDatabase(\"tfmLCF\")\n",
    "    val collection: MongoCollection<Document> = database.getCollection(\"provincias\")\n"
   ]
  },
  {
   "cell_type": "code",
   "execution_count": 6,
   "id": "100a3d8f",
   "metadata": {},
   "outputs": [],
   "source": [
    "// creamos documentos\n",
    "    val document1 = Document(\"nombre\", \"Madrid\")\n",
    "        .append(\"poblacion\", 6666747)\n",
    "        .append(\"superficie_km2\", 8027)\n",
    "\n",
    "    val document2 = Document(\"nombre\", \"Barcelona\")\n",
    "        .append(\"poblacion\", 5664579)\n",
    "        .append(\"superficie_km2\", 7720)\n",
    "\n",
    "    val document3 = Document(\"nombre\", \"Sevilla\")\n",
    "        .append(\"poblacion\", 1942389)\n",
    "        .append(\"superficie_km2\", 14036)\n"
   ]
  },
  {
   "cell_type": "code",
   "execution_count": 7,
   "id": "fc903f0c",
   "metadata": {},
   "outputs": [
    {
     "data": {
      "text/plain": [
       "AcknowledgedInsertOneResult{insertedId=BsonObjectId{value=64fc0f11b2276213d3dc3f9d}}"
      ]
     },
     "execution_count": 7,
     "metadata": {},
     "output_type": "execute_result"
    }
   ],
   "source": [
    "// insertamos documentos en coleección\n",
    "    collection.insertOne(document1)\n",
    "    collection.insertOne(document2)\n",
    "    collection.insertOne(document3)"
   ]
  },
  {
   "cell_type": "code",
   "execution_count": 8,
   "id": "8834b8a3",
   "metadata": {},
   "outputs": [],
   "source": [
    " // cerramos el cliente de MongoDB y liberamos recursos\n",
    "mongoClient.close()"
   ]
  },
  {
   "cell_type": "code",
   "execution_count": null,
   "id": "14ee0a38",
   "metadata": {},
   "outputs": [],
   "source": []
  }
 ],
 "metadata": {
  "kernelspec": {
   "display_name": "Kotlin",
   "language": "kotlin",
   "name": "kotlin"
  },
  "language_info": {
   "codemirror_mode": "text/x-kotlin",
   "file_extension": ".kt",
   "mimetype": "text/x-kotlin",
   "name": "kotlin",
   "nbconvert_exporter": "",
   "pygments_lexer": "kotlin",
   "version": "1.8.20"
  }
 },
 "nbformat": 4,
 "nbformat_minor": 5
}
